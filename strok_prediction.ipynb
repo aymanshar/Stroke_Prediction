{
 "cells": [
  {
   "metadata": {
    "ExecuteTime": {
     "end_time": "2025-04-06T10:12:47.277736Z",
     "start_time": "2025-04-06T10:12:35.254439Z"
    }
   },
   "cell_type": "code",
   "source": "! pip install xgboost",
   "id": "600456865b2bb04",
   "outputs": [
    {
     "name": "stdout",
     "output_type": "stream",
     "text": [
      "Defaulting to user installation because normal site-packages is not writeable\n",
      "Collecting xgboost\n",
      "  Downloading xgboost-3.0.0-py3-none-win_amd64.whl.metadata (2.1 kB)\n",
      "Requirement already satisfied: numpy in c:\\programdata\\anaconda3\\lib\\site-packages (from xgboost) (1.26.4)\n",
      "Requirement already satisfied: scipy in c:\\programdata\\anaconda3\\lib\\site-packages (from xgboost) (1.11.4)\n",
      "Downloading xgboost-3.0.0-py3-none-win_amd64.whl (150.0 MB)\n",
      "   ---------------------------------------- 0.0/150.0 MB ? eta -:--:--\n",
      "   - -------------------------------------- 7.1/150.0 MB 39.6 MB/s eta 0:00:04\n",
      "   ---- ----------------------------------- 18.4/150.0 MB 46.3 MB/s eta 0:00:03\n",
      "   ------- -------------------------------- 29.4/150.0 MB 47.7 MB/s eta 0:00:03\n",
      "   ---------- ----------------------------- 38.8/150.0 MB 46.5 MB/s eta 0:00:03\n",
      "   ------------ --------------------------- 47.4/150.0 MB 45.7 MB/s eta 0:00:03\n",
      "   --------------- ------------------------ 56.9/150.0 MB 45.3 MB/s eta 0:00:03\n",
      "   ----------------- ---------------------- 66.6/150.0 MB 45.1 MB/s eta 0:00:02\n",
      "   -------------------- ------------------- 76.8/150.0 MB 45.3 MB/s eta 0:00:02\n",
      "   ----------------------- ---------------- 87.3/150.0 MB 46.0 MB/s eta 0:00:02\n",
      "   ------------------------- -------------- 97.0/150.0 MB 45.8 MB/s eta 0:00:02\n",
      "   --------------------------- ----------- 105.4/150.0 MB 45.1 MB/s eta 0:00:01\n",
      "   ----------------------------- --------- 113.5/150.0 MB 44.7 MB/s eta 0:00:01\n",
      "   ------------------------------- ------- 122.4/150.0 MB 44.4 MB/s eta 0:00:01\n",
      "   --------------------------------- ----- 130.3/150.0 MB 44.0 MB/s eta 0:00:01\n",
      "   ------------------------------------ -- 140.0/150.0 MB 44.0 MB/s eta 0:00:01\n",
      "   --------------------------------------  149.9/150.0 MB 44.4 MB/s eta 0:00:01\n",
      "   --------------------------------------- 150.0/150.0 MB 41.8 MB/s eta 0:00:00\n",
      "Installing collected packages: xgboost\n",
      "Successfully installed xgboost-3.0.0\n"
     ]
    },
    {
     "name": "stderr",
     "output_type": "stream",
     "text": [
      "DEPRECATION: Loading egg at c:\\programdata\\anaconda3\\lib\\site-packages\\vboxapi-1.0-py3.11.egg is deprecated. pip 25.1 will enforce this behaviour change. A possible replacement is to use pip for package installation. Discussion can be found at https://github.com/pypa/pip/issues/12330\n"
     ]
    }
   ],
   "execution_count": 2
  },
  {
   "metadata": {
    "collapsed": true,
    "ExecuteTime": {
     "end_time": "2025-04-06T11:19:54.424778Z",
     "start_time": "2025-04-06T11:19:54.420778Z"
    }
   },
   "cell_type": "code",
   "source": [
    "import matplotlib.pyplot as plt\n",
    "import numpy as np\n",
    "# Import libraries\n",
    "import pandas as pd\n",
    "import seaborn as sns\n",
    "from imblearn.over_sampling import SMOTE\n",
    "from sklearn.ensemble import RandomForestClassifier\n",
    "from sklearn.linear_model import LogisticRegression\n",
    "#from sklearn.metrics import classification_report, confusion_matrix, accuracy_score\n",
    "from sklearn.metrics import classification_report, confusion_matrix, ConfusionMatrixDisplay\n",
    "from sklearn.model_selection import train_test_split\n",
    "from xgboost import XGBClassifier"
   ],
   "id": "initial_id",
   "outputs": [],
   "execution_count": 80
  },
  {
   "metadata": {
    "ExecuteTime": {
     "end_time": "2025-04-06T10:15:44.619353Z",
     "start_time": "2025-04-06T10:15:44.611037Z"
    }
   },
   "cell_type": "code",
   "source": [
    "# Load the data\n",
    "df = pd.read_csv('stroke_data.csv', sep=',', index_col=\"id\")"
   ],
   "id": "24d6c5c39b5a0ae4",
   "outputs": [],
   "execution_count": 7
  },
  {
   "metadata": {
    "ExecuteTime": {
     "end_time": "2025-04-06T10:21:00.016365Z",
     "start_time": "2025-04-06T10:21:00.011069Z"
    }
   },
   "cell_type": "code",
   "source": "print(df.head())",
   "id": "9a4c6f30e34b5ccb",
   "outputs": [
    {
     "name": "stdout",
     "output_type": "stream",
     "text": [
      "       gender   age  hypertension  heart_disease ever_married      work_type  \\\n",
      "id                                                                             \n",
      "9046     Male  67.0             0              1          Yes        Private   \n",
      "51676  Female  61.0             0              0          Yes  Self-employed   \n",
      "31112    Male  80.0             0              1          Yes        Private   \n",
      "60182  Female  49.0             0              0          Yes        Private   \n",
      "1665   Female  79.0             1              0          Yes  Self-employed   \n",
      "\n",
      "      Residence_type  avg_glucose_level   bmi   smoking_status  stroke  \n",
      "id                                                                      \n",
      "9046           Urban             228.69  36.6  formerly smoked       1  \n",
      "51676          Rural             202.21   NaN     never smoked       1  \n",
      "31112          Rural             105.92  32.5     never smoked       1  \n",
      "60182          Urban             171.23  34.4           smokes       1  \n",
      "1665           Rural             174.12  24.0     never smoked       1  \n"
     ]
    }
   ],
   "execution_count": 18
  },
  {
   "metadata": {
    "ExecuteTime": {
     "end_time": "2025-04-06T10:16:43.580509Z",
     "start_time": "2025-04-06T10:16:43.576576Z"
    }
   },
   "cell_type": "code",
   "source": [
    "# check the coulumn name\n",
    "df.columns"
   ],
   "id": "864c9339a80e2d02",
   "outputs": [
    {
     "data": {
      "text/plain": [
       "Index(['gender', 'age', 'hypertension', 'heart_disease', 'ever_married',\n",
       "       'work_type', 'Residence_type', 'avg_glucose_level', 'bmi',\n",
       "       'smoking_status', 'stroke'],\n",
       "      dtype='object')"
      ]
     },
     "execution_count": 9,
     "metadata": {},
     "output_type": "execute_result"
    }
   ],
   "execution_count": 9
  },
  {
   "metadata": {
    "ExecuteTime": {
     "end_time": "2025-04-06T10:18:02.006926Z",
     "start_time": "2025-04-06T10:18:01.996842Z"
    }
   },
   "cell_type": "code",
   "source": [
    "# describe the dataframe\n",
    "df.describe()"
   ],
   "id": "d885febae1485989",
   "outputs": [
    {
     "data": {
      "text/plain": [
       "               age  hypertension  heart_disease  avg_glucose_level  \\\n",
       "count  5110.000000   5110.000000    5110.000000        5110.000000   \n",
       "mean     43.226614      0.097456       0.054012         106.147677   \n",
       "std      22.612647      0.296607       0.226063          45.283560   \n",
       "min       0.080000      0.000000       0.000000          55.120000   \n",
       "25%      25.000000      0.000000       0.000000          77.245000   \n",
       "50%      45.000000      0.000000       0.000000          91.885000   \n",
       "75%      61.000000      0.000000       0.000000         114.090000   \n",
       "max      82.000000      1.000000       1.000000         271.740000   \n",
       "\n",
       "               bmi       stroke  \n",
       "count  4909.000000  5110.000000  \n",
       "mean     28.893237     0.048728  \n",
       "std       7.854067     0.215320  \n",
       "min      10.300000     0.000000  \n",
       "25%      23.500000     0.000000  \n",
       "50%      28.100000     0.000000  \n",
       "75%      33.100000     0.000000  \n",
       "max      97.600000     1.000000  "
      ],
      "text/html": [
       "<div>\n",
       "<style scoped>\n",
       "    .dataframe tbody tr th:only-of-type {\n",
       "        vertical-align: middle;\n",
       "    }\n",
       "\n",
       "    .dataframe tbody tr th {\n",
       "        vertical-align: top;\n",
       "    }\n",
       "\n",
       "    .dataframe thead th {\n",
       "        text-align: right;\n",
       "    }\n",
       "</style>\n",
       "<table border=\"1\" class=\"dataframe\">\n",
       "  <thead>\n",
       "    <tr style=\"text-align: right;\">\n",
       "      <th></th>\n",
       "      <th>age</th>\n",
       "      <th>hypertension</th>\n",
       "      <th>heart_disease</th>\n",
       "      <th>avg_glucose_level</th>\n",
       "      <th>bmi</th>\n",
       "      <th>stroke</th>\n",
       "    </tr>\n",
       "  </thead>\n",
       "  <tbody>\n",
       "    <tr>\n",
       "      <th>count</th>\n",
       "      <td>5110.000000</td>\n",
       "      <td>5110.000000</td>\n",
       "      <td>5110.000000</td>\n",
       "      <td>5110.000000</td>\n",
       "      <td>4909.000000</td>\n",
       "      <td>5110.000000</td>\n",
       "    </tr>\n",
       "    <tr>\n",
       "      <th>mean</th>\n",
       "      <td>43.226614</td>\n",
       "      <td>0.097456</td>\n",
       "      <td>0.054012</td>\n",
       "      <td>106.147677</td>\n",
       "      <td>28.893237</td>\n",
       "      <td>0.048728</td>\n",
       "    </tr>\n",
       "    <tr>\n",
       "      <th>std</th>\n",
       "      <td>22.612647</td>\n",
       "      <td>0.296607</td>\n",
       "      <td>0.226063</td>\n",
       "      <td>45.283560</td>\n",
       "      <td>7.854067</td>\n",
       "      <td>0.215320</td>\n",
       "    </tr>\n",
       "    <tr>\n",
       "      <th>min</th>\n",
       "      <td>0.080000</td>\n",
       "      <td>0.000000</td>\n",
       "      <td>0.000000</td>\n",
       "      <td>55.120000</td>\n",
       "      <td>10.300000</td>\n",
       "      <td>0.000000</td>\n",
       "    </tr>\n",
       "    <tr>\n",
       "      <th>25%</th>\n",
       "      <td>25.000000</td>\n",
       "      <td>0.000000</td>\n",
       "      <td>0.000000</td>\n",
       "      <td>77.245000</td>\n",
       "      <td>23.500000</td>\n",
       "      <td>0.000000</td>\n",
       "    </tr>\n",
       "    <tr>\n",
       "      <th>50%</th>\n",
       "      <td>45.000000</td>\n",
       "      <td>0.000000</td>\n",
       "      <td>0.000000</td>\n",
       "      <td>91.885000</td>\n",
       "      <td>28.100000</td>\n",
       "      <td>0.000000</td>\n",
       "    </tr>\n",
       "    <tr>\n",
       "      <th>75%</th>\n",
       "      <td>61.000000</td>\n",
       "      <td>0.000000</td>\n",
       "      <td>0.000000</td>\n",
       "      <td>114.090000</td>\n",
       "      <td>33.100000</td>\n",
       "      <td>0.000000</td>\n",
       "    </tr>\n",
       "    <tr>\n",
       "      <th>max</th>\n",
       "      <td>82.000000</td>\n",
       "      <td>1.000000</td>\n",
       "      <td>1.000000</td>\n",
       "      <td>271.740000</td>\n",
       "      <td>97.600000</td>\n",
       "      <td>1.000000</td>\n",
       "    </tr>\n",
       "  </tbody>\n",
       "</table>\n",
       "</div>"
      ]
     },
     "execution_count": 13,
     "metadata": {},
     "output_type": "execute_result"
    }
   ],
   "execution_count": 13
  },
  {
   "metadata": {
    "ExecuteTime": {
     "end_time": "2025-04-06T10:17:57.610088Z",
     "start_time": "2025-04-06T10:17:57.597938Z"
    }
   },
   "cell_type": "code",
   "source": [
    "# describe the dataframe T\n",
    "df.describe().T"
   ],
   "id": "aae038c52c751e24",
   "outputs": [
    {
     "data": {
      "text/plain": [
       "                    count        mean        std    min     25%     50%  \\\n",
       "age                5110.0   43.226614  22.612647   0.08  25.000  45.000   \n",
       "hypertension       5110.0    0.097456   0.296607   0.00   0.000   0.000   \n",
       "heart_disease      5110.0    0.054012   0.226063   0.00   0.000   0.000   \n",
       "avg_glucose_level  5110.0  106.147677  45.283560  55.12  77.245  91.885   \n",
       "bmi                4909.0   28.893237   7.854067  10.30  23.500  28.100   \n",
       "stroke             5110.0    0.048728   0.215320   0.00   0.000   0.000   \n",
       "\n",
       "                      75%     max  \n",
       "age                 61.00   82.00  \n",
       "hypertension         0.00    1.00  \n",
       "heart_disease        0.00    1.00  \n",
       "avg_glucose_level  114.09  271.74  \n",
       "bmi                 33.10   97.60  \n",
       "stroke               0.00    1.00  "
      ],
      "text/html": [
       "<div>\n",
       "<style scoped>\n",
       "    .dataframe tbody tr th:only-of-type {\n",
       "        vertical-align: middle;\n",
       "    }\n",
       "\n",
       "    .dataframe tbody tr th {\n",
       "        vertical-align: top;\n",
       "    }\n",
       "\n",
       "    .dataframe thead th {\n",
       "        text-align: right;\n",
       "    }\n",
       "</style>\n",
       "<table border=\"1\" class=\"dataframe\">\n",
       "  <thead>\n",
       "    <tr style=\"text-align: right;\">\n",
       "      <th></th>\n",
       "      <th>count</th>\n",
       "      <th>mean</th>\n",
       "      <th>std</th>\n",
       "      <th>min</th>\n",
       "      <th>25%</th>\n",
       "      <th>50%</th>\n",
       "      <th>75%</th>\n",
       "      <th>max</th>\n",
       "    </tr>\n",
       "  </thead>\n",
       "  <tbody>\n",
       "    <tr>\n",
       "      <th>age</th>\n",
       "      <td>5110.0</td>\n",
       "      <td>43.226614</td>\n",
       "      <td>22.612647</td>\n",
       "      <td>0.08</td>\n",
       "      <td>25.000</td>\n",
       "      <td>45.000</td>\n",
       "      <td>61.00</td>\n",
       "      <td>82.00</td>\n",
       "    </tr>\n",
       "    <tr>\n",
       "      <th>hypertension</th>\n",
       "      <td>5110.0</td>\n",
       "      <td>0.097456</td>\n",
       "      <td>0.296607</td>\n",
       "      <td>0.00</td>\n",
       "      <td>0.000</td>\n",
       "      <td>0.000</td>\n",
       "      <td>0.00</td>\n",
       "      <td>1.00</td>\n",
       "    </tr>\n",
       "    <tr>\n",
       "      <th>heart_disease</th>\n",
       "      <td>5110.0</td>\n",
       "      <td>0.054012</td>\n",
       "      <td>0.226063</td>\n",
       "      <td>0.00</td>\n",
       "      <td>0.000</td>\n",
       "      <td>0.000</td>\n",
       "      <td>0.00</td>\n",
       "      <td>1.00</td>\n",
       "    </tr>\n",
       "    <tr>\n",
       "      <th>avg_glucose_level</th>\n",
       "      <td>5110.0</td>\n",
       "      <td>106.147677</td>\n",
       "      <td>45.283560</td>\n",
       "      <td>55.12</td>\n",
       "      <td>77.245</td>\n",
       "      <td>91.885</td>\n",
       "      <td>114.09</td>\n",
       "      <td>271.74</td>\n",
       "    </tr>\n",
       "    <tr>\n",
       "      <th>bmi</th>\n",
       "      <td>4909.0</td>\n",
       "      <td>28.893237</td>\n",
       "      <td>7.854067</td>\n",
       "      <td>10.30</td>\n",
       "      <td>23.500</td>\n",
       "      <td>28.100</td>\n",
       "      <td>33.10</td>\n",
       "      <td>97.60</td>\n",
       "    </tr>\n",
       "    <tr>\n",
       "      <th>stroke</th>\n",
       "      <td>5110.0</td>\n",
       "      <td>0.048728</td>\n",
       "      <td>0.215320</td>\n",
       "      <td>0.00</td>\n",
       "      <td>0.000</td>\n",
       "      <td>0.000</td>\n",
       "      <td>0.00</td>\n",
       "      <td>1.00</td>\n",
       "    </tr>\n",
       "  </tbody>\n",
       "</table>\n",
       "</div>"
      ]
     },
     "execution_count": 12,
     "metadata": {},
     "output_type": "execute_result"
    }
   ],
   "execution_count": 12
  },
  {
   "metadata": {
    "ExecuteTime": {
     "end_time": "2025-04-06T10:18:09.649346Z",
     "start_time": "2025-04-06T10:18:09.639749Z"
    }
   },
   "cell_type": "code",
   "source": [
    "# describe the categorical data\n",
    "df[[\"gender\", \"ever_married\", \"work_type\", \"Residence_type\", \"smoking_status\"]].describe(exclude=float)"
   ],
   "id": "735ce2ee888f4533",
   "outputs": [
    {
     "data": {
      "text/plain": [
       "        gender ever_married work_type Residence_type smoking_status\n",
       "count     5110         5110      5110           5110           5110\n",
       "unique       3            2         5              2              4\n",
       "top     Female          Yes   Private          Urban   never smoked\n",
       "freq      2994         3353      2925           2596           1892"
      ],
      "text/html": [
       "<div>\n",
       "<style scoped>\n",
       "    .dataframe tbody tr th:only-of-type {\n",
       "        vertical-align: middle;\n",
       "    }\n",
       "\n",
       "    .dataframe tbody tr th {\n",
       "        vertical-align: top;\n",
       "    }\n",
       "\n",
       "    .dataframe thead th {\n",
       "        text-align: right;\n",
       "    }\n",
       "</style>\n",
       "<table border=\"1\" class=\"dataframe\">\n",
       "  <thead>\n",
       "    <tr style=\"text-align: right;\">\n",
       "      <th></th>\n",
       "      <th>gender</th>\n",
       "      <th>ever_married</th>\n",
       "      <th>work_type</th>\n",
       "      <th>Residence_type</th>\n",
       "      <th>smoking_status</th>\n",
       "    </tr>\n",
       "  </thead>\n",
       "  <tbody>\n",
       "    <tr>\n",
       "      <th>count</th>\n",
       "      <td>5110</td>\n",
       "      <td>5110</td>\n",
       "      <td>5110</td>\n",
       "      <td>5110</td>\n",
       "      <td>5110</td>\n",
       "    </tr>\n",
       "    <tr>\n",
       "      <th>unique</th>\n",
       "      <td>3</td>\n",
       "      <td>2</td>\n",
       "      <td>5</td>\n",
       "      <td>2</td>\n",
       "      <td>4</td>\n",
       "    </tr>\n",
       "    <tr>\n",
       "      <th>top</th>\n",
       "      <td>Female</td>\n",
       "      <td>Yes</td>\n",
       "      <td>Private</td>\n",
       "      <td>Urban</td>\n",
       "      <td>never smoked</td>\n",
       "    </tr>\n",
       "    <tr>\n",
       "      <th>freq</th>\n",
       "      <td>2994</td>\n",
       "      <td>3353</td>\n",
       "      <td>2925</td>\n",
       "      <td>2596</td>\n",
       "      <td>1892</td>\n",
       "    </tr>\n",
       "  </tbody>\n",
       "</table>\n",
       "</div>"
      ]
     },
     "execution_count": 14,
     "metadata": {},
     "output_type": "execute_result"
    }
   ],
   "execution_count": 14
  },
  {
   "metadata": {
    "ExecuteTime": {
     "end_time": "2025-04-06T10:19:13.395046Z",
     "start_time": "2025-04-06T10:19:13.387221Z"
    }
   },
   "cell_type": "code",
   "source": [
    "# check data types\n",
    "df.info()"
   ],
   "id": "44cb9c4de827e21e",
   "outputs": [
    {
     "name": "stdout",
     "output_type": "stream",
     "text": [
      "<class 'pandas.core.frame.DataFrame'>\n",
      "Int64Index: 5110 entries, 9046 to 44679\n",
      "Data columns (total 11 columns):\n",
      " #   Column             Non-Null Count  Dtype  \n",
      "---  ------             --------------  -----  \n",
      " 0   gender             5110 non-null   object \n",
      " 1   age                5110 non-null   float64\n",
      " 2   hypertension       5110 non-null   int64  \n",
      " 3   heart_disease      5110 non-null   int64  \n",
      " 4   ever_married       5110 non-null   object \n",
      " 5   work_type          5110 non-null   object \n",
      " 6   Residence_type     5110 non-null   object \n",
      " 7   avg_glucose_level  5110 non-null   float64\n",
      " 8   bmi                4909 non-null   float64\n",
      " 9   smoking_status     5110 non-null   object \n",
      " 10  stroke             5110 non-null   int64  \n",
      "dtypes: float64(3), int64(3), object(5)\n",
      "memory usage: 479.1+ KB\n"
     ]
    }
   ],
   "execution_count": 17
  },
  {
   "metadata": {
    "ExecuteTime": {
     "end_time": "2025-04-06T10:22:22.096353Z",
     "start_time": "2025-04-06T10:22:22.090425Z"
    }
   },
   "cell_type": "code",
   "source": [
    "# Check missing values\n",
    "print(df.isnull().sum())"
   ],
   "id": "d7608d400c480c31",
   "outputs": [
    {
     "name": "stdout",
     "output_type": "stream",
     "text": [
      "gender                 0\n",
      "age                    0\n",
      "hypertension           0\n",
      "heart_disease          0\n",
      "ever_married           0\n",
      "work_type              0\n",
      "Residence_type         0\n",
      "avg_glucose_level      0\n",
      "bmi                  201\n",
      "smoking_status         0\n",
      "stroke                 0\n",
      "dtype: int64\n"
     ]
    }
   ],
   "execution_count": 20
  },
  {
   "metadata": {},
   "cell_type": "markdown",
   "source": "bmi have 201 null values",
   "id": "91775528fbf55f9f"
  },
  {
   "metadata": {
    "ExecuteTime": {
     "end_time": "2025-04-06T10:22:55.082232Z",
     "start_time": "2025-04-06T10:22:55.078587Z"
    }
   },
   "cell_type": "code",
   "source": [
    "# Handle missing bmi by replacing with median\n",
    "df['bmi'].fillna(df['bmi'].median(), inplace=True)\n"
   ],
   "id": "d0a8f0e706e2d42d",
   "outputs": [],
   "execution_count": 21
  },
  {
   "metadata": {
    "ExecuteTime": {
     "end_time": "2025-04-06T10:24:11.141346Z",
     "start_time": "2025-04-06T10:24:11.135916Z"
    }
   },
   "cell_type": "code",
   "source": [
    "# show possible values in gender\n",
    "df[\"gender\"].unique()"
   ],
   "id": "69c730cf21f5b828",
   "outputs": [
    {
     "data": {
      "text/plain": [
       "array(['Male', 'Female', 'Other'], dtype=object)"
      ]
     },
     "execution_count": 22,
     "metadata": {},
     "output_type": "execute_result"
    }
   ],
   "execution_count": 22
  },
  {
   "metadata": {
    "ExecuteTime": {
     "end_time": "2025-04-06T10:24:21.297832Z",
     "start_time": "2025-04-06T10:24:21.293781Z"
    }
   },
   "cell_type": "code",
   "source": [
    "# show possible values in ever_married\n",
    "df[\"ever_married\"].unique()"
   ],
   "id": "12b92f2a577df451",
   "outputs": [
    {
     "data": {
      "text/plain": [
       "array(['Yes', 'No'], dtype=object)"
      ]
     },
     "execution_count": 24,
     "metadata": {},
     "output_type": "execute_result"
    }
   ],
   "execution_count": 24
  },
  {
   "metadata": {
    "ExecuteTime": {
     "end_time": "2025-04-06T10:24:29.909409Z",
     "start_time": "2025-04-06T10:24:29.904388Z"
    }
   },
   "cell_type": "code",
   "source": [
    "# show possible values in work_type\n",
    "df[\"work_type\"].unique()"
   ],
   "id": "9c82936a445f17d5",
   "outputs": [
    {
     "data": {
      "text/plain": [
       "array(['Private', 'Self-employed', 'Govt_job', 'children', 'Never_worked'],\n",
       "      dtype=object)"
      ]
     },
     "execution_count": 25,
     "metadata": {},
     "output_type": "execute_result"
    }
   ],
   "execution_count": 25
  },
  {
   "metadata": {
    "ExecuteTime": {
     "end_time": "2025-04-06T10:24:37.421456Z",
     "start_time": "2025-04-06T10:24:37.416817Z"
    }
   },
   "cell_type": "code",
   "source": [
    "# show possible values in Residence_type\n",
    "df[\"Residence_type\"].unique()"
   ],
   "id": "5eca8e7d55e458e6",
   "outputs": [
    {
     "data": {
      "text/plain": [
       "array(['Urban', 'Rural'], dtype=object)"
      ]
     },
     "execution_count": 26,
     "metadata": {},
     "output_type": "execute_result"
    }
   ],
   "execution_count": 26
  },
  {
   "metadata": {
    "ExecuteTime": {
     "end_time": "2025-04-06T10:24:45.009044Z",
     "start_time": "2025-04-06T10:24:45.004136Z"
    }
   },
   "cell_type": "code",
   "source": [
    "# show possible values in  smoking_status\n",
    "df[\"smoking_status\"].unique()"
   ],
   "id": "896ba462a8e31841",
   "outputs": [
    {
     "data": {
      "text/plain": [
       "array(['formerly smoked', 'never smoked', 'smokes', 'Unknown'],\n",
       "      dtype=object)"
      ]
     },
     "execution_count": 27,
     "metadata": {},
     "output_type": "execute_result"
    }
   ],
   "execution_count": 27
  },
  {
   "metadata": {
    "ExecuteTime": {
     "end_time": "2025-04-06T10:24:52.537029Z",
     "start_time": "2025-04-06T10:24:52.533028Z"
    }
   },
   "cell_type": "code",
   "source": [
    "# show possible values in  heart_disease\n",
    "df[\"heart_disease\"].unique()"
   ],
   "id": "5677218c66191d3c",
   "outputs": [
    {
     "data": {
      "text/plain": [
       "array([1, 0], dtype=int64)"
      ]
     },
     "execution_count": 28,
     "metadata": {},
     "output_type": "execute_result"
    }
   ],
   "execution_count": 28
  },
  {
   "metadata": {
    "ExecuteTime": {
     "end_time": "2025-04-06T10:25:01.215756Z",
     "start_time": "2025-04-06T10:25:01.210189Z"
    }
   },
   "cell_type": "code",
   "source": [
    "# show possible values in  hypertension\n",
    "df[\"hypertension\"].unique()"
   ],
   "id": "d7f9ff04c9758157",
   "outputs": [
    {
     "data": {
      "text/plain": [
       "array([0, 1], dtype=int64)"
      ]
     },
     "execution_count": 29,
     "metadata": {},
     "output_type": "execute_result"
    }
   ],
   "execution_count": 29
  },
  {
   "metadata": {},
   "cell_type": "markdown",
   "source": "Noticed that 'smoking_status' has 'Unknown' values.",
   "id": "7570087920f93bd4"
  },
  {
   "metadata": {
    "ExecuteTime": {
     "end_time": "2025-04-06T10:26:09.777159Z",
     "start_time": "2025-04-06T10:26:09.772620Z"
    }
   },
   "cell_type": "code",
   "source": [
    "# we can replace 'Unknown' by the mode (most common value)\n",
    "df['smoking_status'].replace('Unknown', np.nan, inplace=True)\n",
    "df['smoking_status'].fillna(df['smoking_status'].mode()[0], inplace=True)"
   ],
   "id": "ac3ebcaab3108e33",
   "outputs": [],
   "execution_count": 30
  },
  {
   "metadata": {
    "ExecuteTime": {
     "end_time": "2025-04-06T10:26:25.399697Z",
     "start_time": "2025-04-06T10:26:25.394297Z"
    }
   },
   "cell_type": "code",
   "source": [
    "# Check after cleaning\n",
    "print(df.isnull().sum())"
   ],
   "id": "5fbc957e0caaaaaf",
   "outputs": [
    {
     "name": "stdout",
     "output_type": "stream",
     "text": [
      "gender               0\n",
      "age                  0\n",
      "hypertension         0\n",
      "heart_disease        0\n",
      "ever_married         0\n",
      "work_type            0\n",
      "Residence_type       0\n",
      "avg_glucose_level    0\n",
      "bmi                  0\n",
      "smoking_status       0\n",
      "stroke               0\n",
      "dtype: int64\n"
     ]
    }
   ],
   "execution_count": 31
  },
  {
   "metadata": {},
   "cell_type": "code",
   "outputs": [],
   "execution_count": null,
   "source": "# Exploratory Data Analysis (EDA)",
   "id": "a9ce9d1921f3695f"
  },
  {
   "metadata": {
    "ExecuteTime": {
     "end_time": "2025-04-06T10:27:04.850141Z",
     "start_time": "2025-04-06T10:27:04.770773Z"
    }
   },
   "cell_type": "code",
   "source": [
    "# Stroke distribution\n",
    "plt.figure(figsize=(6, 4))\n",
    "sns.countplot(x='stroke', data=df)\n",
    "plt.title('Stroke Distribution')\n",
    "plt.show()"
   ],
   "id": "dec0a2fd0a413ad6",
   "outputs": [
    {
     "data": {
      "text/plain": [
       "<Figure size 600x400 with 1 Axes>"
      ],
      "image/png": "[encoded data removed]"
     },
     "metadata": {},
     "output_type": "display_data"
    }
   ],
   "execution_count": 32
  },
  {
   "metadata": {
    "ExecuteTime": {
     "end_time": "2025-04-06T10:31:08.178353Z",
     "start_time": "2025-04-06T10:31:08.107725Z"
    }
   },
   "cell_type": "code",
   "source": [
    "# Gender vs Stroke\n",
    "df['stroke'] = df['stroke'].astype(str)\n",
    "plt.figure(figsize=(6, 4))\n",
    "sns.countplot(x='gender', hue='stroke', data=df)\n",
    "plt.title('Gender vs Stroke')\n",
    "plt.show()\n"
   ],
   "id": "b6c84a85648c0b6b",
   "outputs": [
    {
     "data": {
      "text/plain": [
       "<Figure size 600x400 with 1 Axes>"
      ],
      "image/png": "[encoded data removed]"
     },
     "metadata": {},
     "output_type": "display_data"
    }
   ],
   "execution_count": 45
  },
  {
   "metadata": {
    "ExecuteTime": {
     "end_time": "2025-04-06T10:27:21.913422Z",
     "start_time": "2025-04-06T10:27:21.801963Z"
    }
   },
   "cell_type": "code",
   "source": [
    "# Age distribution\n",
    "plt.figure(figsize=(8, 6))\n",
    "sns.histplot(df['age'], kde=True, bins=30)\n",
    "plt.title('Age Distribution')\n",
    "plt.show()\n"
   ],
   "id": "76dc51d62ac0f6d2",
   "outputs": [
    {
     "data": {
      "text/plain": [
       "<Figure size 800x600 with 1 Axes>"
      ],
      "image/png": "[encoded data removed]"
     },
     "metadata": {},
     "output_type": "display_data"
    }
   ],
   "execution_count": 34
  },
  {
   "metadata": {
    "ExecuteTime": {
     "end_time": "2025-04-06T10:27:28.328215Z",
     "start_time": "2025-04-06T10:27:28.269676Z"
    }
   },
   "cell_type": "code",
   "source": [
    "# Age vs Stroke\n",
    "plt.figure(figsize=(8, 6))\n",
    "sns.boxplot(x='stroke', y='age', data=df)\n",
    "plt.title('Age vs Stroke')\n",
    "plt.show()\n"
   ],
   "id": "b02c210dc21eb05d",
   "outputs": [
    {
     "data": {
      "text/plain": [
       "<Figure size 800x600 with 1 Axes>"
      ],
      "image/png": "[encoded data removed]"
     },
     "metadata": {},
     "output_type": "display_data"
    }
   ],
   "execution_count": 35
  },
  {
   "metadata": {},
   "cell_type": "markdown",
   "source": "Stroke risk increases with age.",
   "id": "833fdd56e230be1f"
  },
  {
   "metadata": {
    "ExecuteTime": {
     "end_time": "2025-04-06T10:30:48.895217Z",
     "start_time": "2025-04-06T10:30:48.830051Z"
    }
   },
   "cell_type": "code",
   "source": [
    "# Hypertension vs Stroke\n",
    "df['stroke'] = df['stroke'].astype(str)\n",
    "plt.figure(figsize=(6, 4))\n",
    "sns.countplot(x='hypertension', hue='stroke', data=df)\n",
    "plt.title('Hypertension vs Stroke')\n",
    "plt.show()"
   ],
   "id": "45ffe43d05cf7465",
   "outputs": [
    {
     "data": {
      "text/plain": [
       "<Figure size 600x400 with 1 Axes>"
      ],
      "image/png": "[encoded data removed]"
     },
     "metadata": {},
     "output_type": "display_data"
    }
   ],
   "execution_count": 44
  },
  {
   "metadata": {},
   "cell_type": "markdown",
   "source": "Stroke risk is higher among patients with hypertension",
   "id": "880b4a86eb00b6c7"
  },
  {
   "metadata": {
    "ExecuteTime": {
     "end_time": "2025-04-06T10:30:32.814689Z",
     "start_time": "2025-04-06T10:30:32.748283Z"
    }
   },
   "cell_type": "code",
   "source": [
    "# Heart Disease vs Stroke\n",
    "df['stroke'] = df['stroke'].astype(str)\n",
    "plt.figure(figsize=(6, 4))\n",
    "sns.countplot(x='heart_disease', hue='stroke', data=df)\n",
    "plt.title('Heart Disease vs Stroke')\n",
    "plt.show()"
   ],
   "id": "5c4e1d33bea40b21",
   "outputs": [
    {
     "data": {
      "text/plain": [
       "<Figure size 600x400 with 1 Axes>"
      ],
      "image/png": "[encoded data removed]"
     },
     "metadata": {},
     "output_type": "display_data"
    }
   ],
   "execution_count": 43
  },
  {
   "metadata": {},
   "cell_type": "markdown",
   "source": "Stroke risk is higher among patients with heart disease",
   "id": "e3018addfc2bacf4"
  },
  {
   "metadata": {
    "ExecuteTime": {
     "end_time": "2025-04-06T10:30:07.655157Z",
     "start_time": "2025-04-06T10:30:07.573078Z"
    }
   },
   "cell_type": "code",
   "source": [
    "# Smoking Status Vs Stroke\n",
    "df['stroke'] = df['stroke'].astype(str)\n",
    "\n",
    "plt.figure(figsize=(10, 6))  # Define figure size\n",
    "sns.countplot(x='smoking_status', hue='stroke', data=df)  # Create the countplot\n",
    "\n",
    "plt.title('Smoking Status vs Stroke')  # Add title\n",
    "plt.xlabel('Smoking Status')  # Add label to x-axis\n",
    "plt.ylabel('Count')  # Add label to y-axis\n",
    "plt.legend(title='Stroke')  # Set legend title to ensure readability\n",
    "\n",
    "plt.show()"
   ],
   "id": "4a232dcf20f2431f",
   "outputs": [
    {
     "data": {
      "text/plain": [
       "<Figure size 1000x600 with 1 Axes>"
      ],
      "image/png": "[encoded data removed]"
     },
     "metadata": {},
     "output_type": "display_data"
    }
   ],
   "execution_count": 42
  },
  {
   "metadata": {},
   "cell_type": "markdown",
   "source": "Former smokers and current smokers have a slightly higher stroke risk",
   "id": "8322f0f13fcfbfc3"
  },
  {
   "metadata": {
    "ExecuteTime": {
     "end_time": "2025-04-06T10:27:54.362875Z",
     "start_time": "2025-04-06T10:27:54.252952Z"
    }
   },
   "cell_type": "code",
   "source": [
    "# Correlation heatmap\n",
    "plt.figure(figsize=(10, 8))\n",
    "sns.heatmap(df.corr(), annot=True, cmap='coolwarm')\n",
    "plt.title('Feature Correlation')\n",
    "plt.show()"
   ],
   "id": "e8e4c6bd00c90aee",
   "outputs": [
    {
     "data": {
      "text/plain": [
       "<Figure size 1000x800 with 2 Axes>"
      ],
      "image/png": "[encoded data removed]"
     },
     "metadata": {},
     "output_type": "display_data"
    }
   ],
   "execution_count": 39
  },
  {
   "metadata": {},
   "cell_type": "markdown",
   "source": "# Encode categorical variables",
   "id": "472f2ab9a04f6dd6"
  },
  {
   "metadata": {
    "ExecuteTime": {
     "end_time": "2025-04-06T10:40:03.353050Z",
     "start_time": "2025-04-06T10:40:03.347566Z"
    }
   },
   "cell_type": "code",
   "source": "df = pd.concat([df, pd.get_dummies(df.gender, prefix='gender')], axis=1).drop(columns=\"gender\")",
   "id": "a4abb17a4e454b9e",
   "outputs": [],
   "execution_count": 46
  },
  {
   "metadata": {
    "ExecuteTime": {
     "end_time": "2025-04-06T10:40:26.486693Z",
     "start_time": "2025-04-06T10:40:26.480695Z"
    }
   },
   "cell_type": "code",
   "source": "df = pd.concat([df, pd.get_dummies(df.ever_married, prefix='ever_married')], axis=1).drop(columns=\"ever_married\")",
   "id": "f288bfc0d0c2f783",
   "outputs": [],
   "execution_count": 47
  },
  {
   "metadata": {
    "ExecuteTime": {
     "end_time": "2025-04-06T10:40:43.506412Z",
     "start_time": "2025-04-06T10:40:43.501412Z"
    }
   },
   "cell_type": "code",
   "source": "df = pd.concat([df, pd.get_dummies(df.work_type, prefix='work_type')], axis=1).drop(columns=\"work_type\")",
   "id": "979d6644b6830aa3",
   "outputs": [],
   "execution_count": 48
  },
  {
   "metadata": {
    "ExecuteTime": {
     "end_time": "2025-04-06T10:41:24.988428Z",
     "start_time": "2025-04-06T10:41:24.983466Z"
    }
   },
   "cell_type": "code",
   "source": "df = pd.concat([df, pd.get_dummies(df.Residence_type, prefix='Residence_type')], axis=1).drop(columns=\"Residence_type\")",
   "id": "79ee0f47cc776c31",
   "outputs": [],
   "execution_count": 49
  },
  {
   "metadata": {
    "ExecuteTime": {
     "end_time": "2025-04-06T10:41:40.256096Z",
     "start_time": "2025-04-06T10:41:40.252043Z"
    }
   },
   "cell_type": "code",
   "source": "df = pd.concat([df, pd.get_dummies(df.smoking_status, prefix='smoking_status')], axis=1).drop(columns=\"smoking_status\")",
   "id": "e741645c6ecfcd5c",
   "outputs": [],
   "execution_count": 50
  },
  {
   "metadata": {
    "ExecuteTime": {
     "end_time": "2025-04-06T10:41:50.679499Z",
     "start_time": "2025-04-06T10:41:50.671542Z"
    }
   },
   "cell_type": "code",
   "source": "df.head(3)",
   "id": "57ba01bfb347b8c3",
   "outputs": [
    {
     "data": {
      "text/plain": [
       "        age  hypertension  heart_disease  avg_glucose_level   bmi stroke  \\\n",
       "id                                                                         \n",
       "9046   67.0             0              1             228.69  36.6      1   \n",
       "51676  61.0             0              0             202.21  28.1      1   \n",
       "31112  80.0             0              1             105.92  32.5      1   \n",
       "\n",
       "       gender_Female  gender_Male  gender_Other  ever_married_No  ...  \\\n",
       "id                                                                ...   \n",
       "9046               0            1             0                0  ...   \n",
       "51676              1            0             0                0  ...   \n",
       "31112              0            1             0                0  ...   \n",
       "\n",
       "       work_type_Govt_job  work_type_Never_worked  work_type_Private  \\\n",
       "id                                                                     \n",
       "9046                    0                       0                  1   \n",
       "51676                   0                       0                  0   \n",
       "31112                   0                       0                  1   \n",
       "\n",
       "       work_type_Self-employed  work_type_children  Residence_type_Rural  \\\n",
       "id                                                                         \n",
       "9046                         0                   0                     0   \n",
       "51676                        1                   0                     1   \n",
       "31112                        0                   0                     1   \n",
       "\n",
       "       Residence_type_Urban  smoking_status_formerly smoked  \\\n",
       "id                                                            \n",
       "9046                      1                               1   \n",
       "51676                     0                               0   \n",
       "31112                     0                               0   \n",
       "\n",
       "       smoking_status_never smoked  smoking_status_smokes  \n",
       "id                                                         \n",
       "9046                             0                      0  \n",
       "51676                            1                      0  \n",
       "31112                            1                      0  \n",
       "\n",
       "[3 rows x 21 columns]"
      ],
      "text/html": [
       "<div>\n",
       "<style scoped>\n",
       "    .dataframe tbody tr th:only-of-type {\n",
       "        vertical-align: middle;\n",
       "    }\n",
       "\n",
       "    .dataframe tbody tr th {\n",
       "        vertical-align: top;\n",
       "    }\n",
       "\n",
       "    .dataframe thead th {\n",
       "        text-align: right;\n",
       "    }\n",
       "</style>\n",
       "<table border=\"1\" class=\"dataframe\">\n",
       "  <thead>\n",
       "    <tr style=\"text-align: right;\">\n",
       "      <th></th>\n",
       "      <th>age</th>\n",
       "      <th>hypertension</th>\n",
       "      <th>heart_disease</th>\n",
       "      <th>avg_glucose_level</th>\n",
       "      <th>bmi</th>\n",
       "      <th>stroke</th>\n",
       "      <th>gender_Female</th>\n",
       "      <th>gender_Male</th>\n",
       "      <th>gender_Other</th>\n",
       "      <th>ever_married_No</th>\n",
       "      <th>...</th>\n",
       "      <th>work_type_Govt_job</th>\n",
       "      <th>work_type_Never_worked</th>\n",
       "      <th>work_type_Private</th>\n",
       "      <th>work_type_Self-employed</th>\n",
       "      <th>work_type_children</th>\n",
       "      <th>Residence_type_Rural</th>\n",
       "      <th>Residence_type_Urban</th>\n",
       "      <th>smoking_status_formerly smoked</th>\n",
       "      <th>smoking_status_never smoked</th>\n",
       "      <th>smoking_status_smokes</th>\n",
       "    </tr>\n",
       "    <tr>\n",
       "      <th>id</th>\n",
       "      <th></th>\n",
       "      <th></th>\n",
       "      <th></th>\n",
       "      <th></th>\n",
       "      <th></th>\n",
       "      <th></th>\n",
       "      <th></th>\n",
       "      <th></th>\n",
       "      <th></th>\n",
       "      <th></th>\n",
       "      <th></th>\n",
       "      <th></th>\n",
       "      <th></th>\n",
       "      <th></th>\n",
       "      <th></th>\n",
       "      <th></th>\n",
       "      <th></th>\n",
       "      <th></th>\n",
       "      <th></th>\n",
       "      <th></th>\n",
       "      <th></th>\n",
       "    </tr>\n",
       "  </thead>\n",
       "  <tbody>\n",
       "    <tr>\n",
       "      <th>9046</th>\n",
       "      <td>67.0</td>\n",
       "      <td>0</td>\n",
       "      <td>1</td>\n",
       "      <td>228.69</td>\n",
       "      <td>36.6</td>\n",
       "      <td>1</td>\n",
       "      <td>0</td>\n",
       "      <td>1</td>\n",
       "      <td>0</td>\n",
       "      <td>0</td>\n",
       "      <td>...</td>\n",
       "      <td>0</td>\n",
       "      <td>0</td>\n",
       "      <td>1</td>\n",
       "      <td>0</td>\n",
       "      <td>0</td>\n",
       "      <td>0</td>\n",
       "      <td>1</td>\n",
       "      <td>1</td>\n",
       "      <td>0</td>\n",
       "      <td>0</td>\n",
       "    </tr>\n",
       "    <tr>\n",
       "      <th>51676</th>\n",
       "      <td>61.0</td>\n",
       "      <td>0</td>\n",
       "      <td>0</td>\n",
       "      <td>202.21</td>\n",
       "      <td>28.1</td>\n",
       "      <td>1</td>\n",
       "      <td>1</td>\n",
       "      <td>0</td>\n",
       "      <td>0</td>\n",
       "      <td>0</td>\n",
       "      <td>...</td>\n",
       "      <td>0</td>\n",
       "      <td>0</td>\n",
       "      <td>0</td>\n",
       "      <td>1</td>\n",
       "      <td>0</td>\n",
       "      <td>1</td>\n",
       "      <td>0</td>\n",
       "      <td>0</td>\n",
       "      <td>1</td>\n",
       "      <td>0</td>\n",
       "    </tr>\n",
       "    <tr>\n",
       "      <th>31112</th>\n",
       "      <td>80.0</td>\n",
       "      <td>0</td>\n",
       "      <td>1</td>\n",
       "      <td>105.92</td>\n",
       "      <td>32.5</td>\n",
       "      <td>1</td>\n",
       "      <td>0</td>\n",
       "      <td>1</td>\n",
       "      <td>0</td>\n",
       "      <td>0</td>\n",
       "      <td>...</td>\n",
       "      <td>0</td>\n",
       "      <td>0</td>\n",
       "      <td>1</td>\n",
       "      <td>0</td>\n",
       "      <td>0</td>\n",
       "      <td>1</td>\n",
       "      <td>0</td>\n",
       "      <td>0</td>\n",
       "      <td>1</td>\n",
       "      <td>0</td>\n",
       "    </tr>\n",
       "  </tbody>\n",
       "</table>\n",
       "<p>3 rows × 21 columns</p>\n",
       "</div>"
      ]
     },
     "execution_count": 51,
     "metadata": {},
     "output_type": "execute_result"
    }
   ],
   "execution_count": 51
  },
  {
   "metadata": {
    "ExecuteTime": {
     "end_time": "2025-04-06T10:43:17.380356Z",
     "start_time": "2025-04-06T10:43:17.376356Z"
    }
   },
   "cell_type": "code",
   "source": [
    "# Split and Apply SMOTE\n",
    "X = df.drop('stroke', axis=1)\n",
    "y = df['stroke']"
   ],
   "id": "31bd5739b5114683",
   "outputs": [],
   "execution_count": 53
  },
  {
   "metadata": {
    "ExecuteTime": {
     "end_time": "2025-04-06T10:43:24.624974Z",
     "start_time": "2025-04-06T10:43:24.614657Z"
    }
   },
   "cell_type": "code",
   "source": "X_train, X_test, y_train, y_test = train_test_split(X, y, test_size=0.2, random_state=42, stratify=y)",
   "id": "37699314bdc4e480",
   "outputs": [],
   "execution_count": 54
  },
  {
   "metadata": {
    "ExecuteTime": {
     "end_time": "2025-04-06T10:43:36.075168Z",
     "start_time": "2025-04-06T10:43:35.952699Z"
    }
   },
   "cell_type": "code",
   "source": [
    "smote = SMOTE(random_state=42)\n",
    "X_train_bal, y_train_bal = smote.fit_resample(X_train, y_train)"
   ],
   "id": "971a8fea73ecf086",
   "outputs": [],
   "execution_count": 55
  },
  {
   "metadata": {
    "ExecuteTime": {
     "end_time": "2025-04-06T10:51:17.545368Z",
     "start_time": "2025-04-06T10:51:17.541499Z"
    }
   },
   "cell_type": "code",
   "source": [
    "print('Before SMOTE:', y_train.value_counts())\n",
    "print('-------')\n",
    "print('After SMOTE:', y_train_bal.value_counts())"
   ],
   "id": "207526f037a27a79",
   "outputs": [
    {
     "name": "stdout",
     "output_type": "stream",
     "text": [
      "Before SMOTE: 0    3889\n",
      "1     199\n",
      "Name: stroke, dtype: int64\n",
      "-------\n",
      "After SMOTE: 0    3889\n",
      "1    3889\n",
      "Name: stroke, dtype: int64\n"
     ]
    }
   ],
   "execution_count": 65
  },
  {
   "metadata": {},
   "cell_type": "markdown",
   "source": [
    "Model Training\n",
    "will Try the below models:\n",
    "\n",
    "1- Logistic Regression\n",
    "\n",
    "2- Random Forest\n",
    "\n",
    "3- XGBoost"
   ],
   "id": "ef09b3e78a6129f1"
  },
  {
   "metadata": {
    "ExecuteTime": {
     "end_time": "2025-04-06T10:53:26.480456Z",
     "start_time": "2025-04-06T10:53:26.007066Z"
    }
   },
   "cell_type": "code",
   "source": [
    "# Model Training\n",
    "# Logistic Regression\n",
    "lRegression = LogisticRegression(max_iter=1000)\n",
    "lRegression.fit(X_train_bal, y_train_bal)\n",
    "y_pred_lRegression = lRegression.predict(X_test)"
   ],
   "id": "c26833e7273446f1",
   "outputs": [],
   "execution_count": 68
  },
  {
   "metadata": {
    "ExecuteTime": {
     "end_time": "2025-04-06T11:52:45.553174Z",
     "start_time": "2025-04-06T11:52:45.546174Z"
    }
   },
   "cell_type": "code",
   "source": [
    "# Logistic Regression\n",
    "y_pred_lRegression = y_pred_lRegression.astype(int)\n",
    "print(\"Logistic Regression Results:\")\n",
    "print(classification_report(y_test, y_pred_lRegression))"
   ],
   "id": "f66221f539af7d10",
   "outputs": [
    {
     "name": "stdout",
     "output_type": "stream",
     "text": [
      "Logistic Regression Results:\n",
      "              precision    recall  f1-score   support\n",
      "\n",
      "           0       0.96      0.99      0.97       972\n",
      "           1       0.44      0.14      0.21        50\n",
      "\n",
      "    accuracy                           0.95      1022\n",
      "   macro avg       0.70      0.57      0.59      1022\n",
      "weighted avg       0.93      0.95      0.94      1022\n",
      "\n"
     ]
    }
   ],
   "execution_count": 88
  },
  {
   "metadata": {
    "ExecuteTime": {
     "end_time": "2025-04-06T12:10:30.570063Z",
     "start_time": "2025-04-06T12:10:30.563063Z"
    }
   },
   "cell_type": "code",
   "source": [
    "cf = pd.DataFrame(columns=[\"0\", \"1\"], index=[\"0\", \"1\"])\n",
    "cf.loc[:, :] = confusion_matrix(y_true=y_test, y_pred=y_pred_lRegression)\n",
    "print(cf)\n",
    "print('')\n",
    "print(cf / len(y_test))"
   ],
   "id": "bfa1dd847e9a4822",
   "outputs": [
    {
     "name": "stdout",
     "output_type": "stream",
     "text": [
      "     0  1\n",
      "0  963  9\n",
      "1   43  7\n",
      "\n",
      "          0         1\n",
      "0   0.94227  0.008806\n",
      "1  0.042074  0.006849\n"
     ]
    }
   ],
   "execution_count": 102
  },
  {
   "metadata": {
    "ExecuteTime": {
     "end_time": "2025-04-06T11:21:36.217941Z",
     "start_time": "2025-04-06T11:21:36.144872Z"
    }
   },
   "cell_type": "code",
   "source": [
    "ConfusionMatrixDisplay(confusion_matrix(y_test, y_pred_lRegression)).plot()\n",
    "plt.title(\"Confusion Matrix - Logistic Regression\")\n",
    "plt.show()"
   ],
   "id": "20c0958db0fe599b",
   "outputs": [
    {
     "data": {
      "text/plain": [
       "<Figure size 640x480 with 2 Axes>"
      ],
      "image/png": "[encoded data removed]"
     },
     "metadata": {},
     "output_type": "display_data"
    }
   ],
   "execution_count": 82
  },
  {
   "metadata": {
    "ExecuteTime": {
     "end_time": "2025-04-06T10:53:26.972454Z",
     "start_time": "2025-04-06T10:53:26.581504Z"
    }
   },
   "cell_type": "code",
   "outputs": [],
   "execution_count": 69,
   "source": [
    "# Random Forest\n",
    "rForest = RandomForestClassifier()\n",
    "rForest.fit(X_train_bal, y_train_bal)\n",
    "y_pred_rForest = rForest.predict(X_test)\n"
   ],
   "id": "27fb9e0042e15743"
  },
  {
   "metadata": {
    "ExecuteTime": {
     "end_time": "2025-04-06T10:58:36.197974Z",
     "start_time": "2025-04-06T10:58:36.189647Z"
    }
   },
   "cell_type": "code",
   "source": [
    "# Random Forest\n",
    "y_pred_rForest = y_pred_rForest.astype(int)\n",
    "print(\"Random Forest Results:\")\n",
    "print(classification_report(y_test, y_pred_rForest))\n",
    "#print(confusion_matrix(y_test, y_pred_rForest))"
   ],
   "id": "a5435c6d5d2e0b7b",
   "outputs": [
    {
     "name": "stdout",
     "output_type": "stream",
     "text": [
      "Random Forest Results:\n",
      "              precision    recall  f1-score   support\n",
      "\n",
      "           0       0.95      0.99      0.97       972\n",
      "           1       0.07      0.02      0.03        50\n",
      "\n",
      "    accuracy                           0.94      1022\n",
      "   macro avg       0.51      0.50      0.50      1022\n",
      "weighted avg       0.91      0.94      0.92      1022\n",
      "\n",
      "[[958  14]\n",
      " [ 49   1]]\n"
     ]
    }
   ],
   "execution_count": 74
  },
  {
   "metadata": {
    "ExecuteTime": {
     "end_time": "2025-04-06T12:02:03.089794Z",
     "start_time": "2025-04-06T12:02:03.084806Z"
    }
   },
   "cell_type": "code",
   "source": [
    "cf_forest = pd.DataFrame(columns=[\"0\", \"1\"], index=[\"0\", \"1\"])\n",
    "cf_forest.loc[:, :] = confusion_matrix(y_true=y_test, y_pred=y_pred_rForest)\n",
    "print(cf_forest)\n",
    "print('')\n",
    "print(cf_forest / len(y_test))"
   ],
   "id": "c8cdd456390eca5c",
   "outputs": [
    {
     "name": "stdout",
     "output_type": "stream",
     "text": [
      "     0   1\n",
      "0  958  14\n",
      "1   49   1\n",
      "\n",
      "          0         1\n",
      "0  0.937378  0.013699\n",
      "1  0.047945  0.000978\n"
     ]
    }
   ],
   "execution_count": 99
  },
  {
   "metadata": {
    "ExecuteTime": {
     "end_time": "2025-04-06T11:21:52.876972Z",
     "start_time": "2025-04-06T11:21:52.807241Z"
    }
   },
   "cell_type": "code",
   "source": [
    "ConfusionMatrixDisplay(confusion_matrix(y_test, y_pred_rForest)).plot()\n",
    "plt.title(\"Confusion Matrix - Random Forest\")\n",
    "plt.show()"
   ],
   "id": "58041c669dfc0bf0",
   "outputs": [
    {
     "data": {
      "text/plain": [
       "<Figure size 640x480 with 2 Axes>"
      ],
      "image/png": "[encoded data removed]"
     },
     "metadata": {},
     "output_type": "display_data"
    }
   ],
   "execution_count": 83
  },
  {
   "metadata": {
    "ExecuteTime": {
     "end_time": "2025-04-06T10:53:27.339997Z",
     "start_time": "2025-04-06T10:53:27.260542Z"
    }
   },
   "cell_type": "code",
   "outputs": [],
   "execution_count": 70,
   "source": [
    "# XGBoost\n",
    "# Convert y_train_bal, and y_test from strings to integers\n",
    "y_train_bal = y_train_bal.astype(int)\n",
    "y_test = y_test.astype(int)\n",
    "\n",
    "xgb = XGBClassifier(eval_metric='logloss')\n",
    "xgb.fit(X_train_bal, y_train_bal)\n",
    "y_pred_xgb = xgb.predict(X_test)"
   ],
   "id": "b2e4dd9e28883457"
  },
  {
   "metadata": {
    "ExecuteTime": {
     "end_time": "2025-04-06T12:02:59.044366Z",
     "start_time": "2025-04-06T12:02:59.038385Z"
    }
   },
   "cell_type": "code",
   "source": [
    "# XGBoost\n",
    "y_pred_xgb = y_pred_xgb.astype(int)\n",
    "print(\"XGBoost Results:\")\n",
    "print(classification_report(y_test, y_pred_xgb))\n",
    "#print(confusion_matrix(y_test, y_pred_xgb))"
   ],
   "id": "984fa13c4a2ae1bc",
   "outputs": [
    {
     "name": "stdout",
     "output_type": "stream",
     "text": [
      "XGBoost Results:\n",
      "              precision    recall  f1-score   support\n",
      "\n",
      "           0       0.95      0.98      0.96       972\n",
      "           1       0.17      0.10      0.13        50\n",
      "\n",
      "    accuracy                           0.93      1022\n",
      "   macro avg       0.56      0.54      0.55      1022\n",
      "weighted avg       0.92      0.93      0.92      1022\n",
      "\n"
     ]
    }
   ],
   "execution_count": 101
  },
  {
   "metadata": {
    "ExecuteTime": {
     "end_time": "2025-04-06T12:02:46.614281Z",
     "start_time": "2025-04-06T12:02:46.608055Z"
    }
   },
   "cell_type": "code",
   "source": [
    "cf_xgb = pd.DataFrame(columns=[\"0\", \"1\"], index=[\"0\", \"1\"])\n",
    "cf_xgb.loc[:, :] = confusion_matrix(y_true=y_test, y_pred=y_pred_xgb)\n",
    "print(cf_xgb)\n",
    "print('')\n",
    "print(cf_xgb / len(y_test))"
   ],
   "id": "8a10650b7b5b9946",
   "outputs": [
    {
     "name": "stdout",
     "output_type": "stream",
     "text": [
      "     0   1\n",
      "0  948  24\n",
      "1   45   5\n",
      "\n",
      "          0         1\n",
      "0  0.927593  0.023483\n",
      "1  0.044031  0.004892\n"
     ]
    }
   ],
   "execution_count": 100
  },
  {
   "metadata": {
    "ExecuteTime": {
     "end_time": "2025-04-06T11:22:31.486932Z",
     "start_time": "2025-04-06T11:22:31.417163Z"
    }
   },
   "cell_type": "code",
   "source": [
    "ConfusionMatrixDisplay(confusion_matrix(y_test, y_pred_xgb)).plot()\n",
    "plt.title(\"Confusion Matrix - XGBoost\")\n",
    "plt.show()"
   ],
   "id": "9c7f244335727160",
   "outputs": [
    {
     "data": {
      "text/plain": [
       "<Figure size 640x480 with 2 Axes>"
      ],
      "image/png": "[encoded data removed]"
     },
     "metadata": {},
     "output_type": "display_data"
    }
   ],
   "execution_count": 84
  },
  {
   "metadata": {},
   "cell_type": "markdown",
   "source": "Model Evaluation all models",
   "id": "2528f42cd35355eb"
  },
  {
   "metadata": {
    "ExecuteTime": {
     "end_time": "2025-04-06T11:00:37.247914Z",
     "start_time": "2025-04-06T11:00:37.236421Z"
    }
   },
   "cell_type": "code",
   "source": [
    "# Now calculate the classification reports\n",
    "print(\"Logistic Regression:\\n\", classification_report(y_test, y_pred_lr))\n",
    "print(\"Random Forest:\\n\", classification_report(y_test, y_pred_rf))\n",
    "print(\"XGBoost:\\n\", classification_report(y_test, y_pred_xgb))"
   ],
   "id": "a45d94a26cea362b",
   "outputs": [
    {
     "name": "stdout",
     "output_type": "stream",
     "text": [
      "Logistic Regression:\n",
      "               precision    recall  f1-score   support\n",
      "\n",
      "           0       0.96      0.99      0.97       972\n",
      "           1       0.44      0.14      0.21        50\n",
      "\n",
      "    accuracy                           0.95      1022\n",
      "   macro avg       0.70      0.57      0.59      1022\n",
      "weighted avg       0.93      0.95      0.94      1022\n",
      "\n",
      "Random Forest:\n",
      "               precision    recall  f1-score   support\n",
      "\n",
      "           0       0.95      0.98      0.97       972\n",
      "           1       0.12      0.04      0.06        50\n",
      "\n",
      "    accuracy                           0.94      1022\n",
      "   macro avg       0.53      0.51      0.51      1022\n",
      "weighted avg       0.91      0.94      0.92      1022\n",
      "\n",
      "XGBoost:\n",
      "               precision    recall  f1-score   support\n",
      "\n",
      "           0       0.95      0.98      0.96       972\n",
      "           1       0.17      0.10      0.13        50\n",
      "\n",
      "    accuracy                           0.93      1022\n",
      "   macro avg       0.56      0.54      0.55      1022\n",
      "weighted avg       0.92      0.93      0.92      1022\n",
      "\n"
     ]
    }
   ],
   "execution_count": 77
  },
  {
   "metadata": {
    "ExecuteTime": {
     "end_time": "2025-04-06T11:01:03.979168Z",
     "start_time": "2025-04-06T11:01:03.976772Z"
    }
   },
   "cell_type": "code",
   "source": [
    "print(\"\\nConclusion:\")\n",
    "print(\"Among the tested models, XGBoost generally performs the best based on accuracy and recall. \")\n",
    "print(\"Important features include age, hypertension, heart disease, and glucose levels.\")"
   ],
   "id": "591033db70e48747",
   "outputs": [
    {
     "name": "stdout",
     "output_type": "stream",
     "text": [
      "\n",
      "Conclusion:\n",
      "Among the tested models, XGBoost generally performs the best based on accuracy and recall. \n",
      "Important features include age, hypertension, heart disease, and glucose levels.\n"
     ]
    }
   ],
   "execution_count": 79
  },
  {
   "metadata": {
    "ExecuteTime": {
     "end_time": "2025-04-06T12:21:18.617270Z",
     "start_time": "2025-04-06T12:21:18.613410Z"
    }
   },
   "cell_type": "code",
   "source": [
    "# Manual Testing\n",
    "# Get all training features\n",
    "columns = X_train.columns.tolist()\n",
    "\n",
    "# Create a base dictionary with all features set to 0\n",
    "input_data = {col: 0 for col in columns}\n",
    "\n",
    "# add any columns with its value to predict if stroke is negative or positive\n",
    "input_data.update({\n",
    "    'age': 67.0,  # Age of the patient\n",
    "    'hypertension': 1,  # 1 if patient has hypertension, 0 otherwise\n",
    "    'heart_disease': 0,  # 1 if patient has heart disease, 0 otherwise\n",
    "    'avg_glucose_level': 228.69,  # Average glucose level\n",
    "    'bmi': 36.6,  # Body mass index\n",
    "    'gender_Male': 1,  # 1 if Male\n",
    "    'ever_married_Yes': 1,  # 1 if ever married\n",
    "    'work_type_Private': 1,  # 1 if Private worker\n",
    "    'Residence_type_Urban': 1,  # 1 if Urban residence\n",
    "    'smoking_status_formerly smoked': 1,  # 1 if formerly smoked\n",
    "})"
   ],
   "id": "c3ff633cb9c07ef2",
   "outputs": [],
   "execution_count": 106
  },
  {
   "metadata": {
    "ExecuteTime": {
     "end_time": "2025-04-06T12:21:19.239857Z",
     "start_time": "2025-04-06T12:21:19.235848Z"
    }
   },
   "cell_type": "code",
   "source": [
    "# Convert to DataFrame\n",
    "input_df = pd.DataFrame([input_data])"
   ],
   "id": "9afb0481c75625e3",
   "outputs": [],
   "execution_count": 107
  },
  {
   "metadata": {
    "ExecuteTime": {
     "end_time": "2025-04-06T12:21:19.871084Z",
     "start_time": "2025-04-06T12:21:19.865783Z"
    }
   },
   "cell_type": "code",
   "source": [
    "# Predict\n",
    "predicted_class = xgb.predict(input_df)[0]\n",
    "print(\"Prediction:\", \"Stroke\" if predicted_class == 1 else \"No Stroke\")"
   ],
   "id": "8bae965c4d6dcb84",
   "outputs": [
    {
     "name": "stdout",
     "output_type": "stream",
     "text": [
      "Prediction: No Stroke\n"
     ]
    }
   ],
   "execution_count": 108
  },
  {
   "metadata": {},
   "cell_type": "code",
   "outputs": [],
   "execution_count": null,
   "source": "",
   "id": "ddec8369e9eb0164"
  }
 ],
 "metadata": {
  "kernelspec": {
   "display_name": "Python 3",
   "language": "python",
   "name": "python3"
  },
  "language_info": {
   "codemirror_mode": {
    "name": "ipython",
    "version": 2
   },
   "file_extension": ".py",
   "mimetype": "text/x-python",
   "name": "python",
   "nbconvert_exporter": "python",
   "pygments_lexer": "ipython2",
   "version": "2.7.6"
  }
 },
 "nbformat": 4,
 "nbformat_minor": 5
}
