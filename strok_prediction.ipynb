{
 "cells": [
  {
   "metadata": {
    "ExecuteTime": {
     "end_time": "2025-04-06T13:44:23.128759Z",
     "start_time": "2025-04-06T13:44:21.802175Z"
    }
   },
   "cell_type": "code",
   "source": "! pip install xgboost",
   "id": "600456865b2bb04",
   "outputs": [
    {
     "name": "stdout",
     "output_type": "stream",
     "text": [
      "Defaulting to user installation because normal site-packages is not writeable\n",
      "Requirement already satisfied: xgboost in c:\\users\\ayman\\appdata\\roaming\\python\\python311\\site-packages (3.0.0)\n",
      "Requirement already satisfied: numpy in c:\\programdata\\anaconda3\\lib\\site-packages (from xgboost) (1.26.4)\n",
      "Requirement already satisfied: scipy in c:\\programdata\\anaconda3\\lib\\site-packages (from xgboost) (1.11.4)\n"
     ]
    },
    {
     "name": "stderr",
     "output_type": "stream",
     "text": [
      "DEPRECATION: Loading egg at c:\\programdata\\anaconda3\\lib\\site-packages\\vboxapi-1.0-py3.11.egg is deprecated. pip 25.1 will enforce this behaviour change. A possible replacement is to use pip for package installation. Discussion can be found at https://github.com/pypa/pip/issues/12330\n"
     ]
    }
   ],
   "execution_count": 141
  },
  {
   "metadata": {
    "collapsed": true,
    "ExecuteTime": {
     "end_time": "2025-04-06T13:44:23.135163Z",
     "start_time": "2025-04-06T13:44:23.131765Z"
    }
   },
   "cell_type": "code",
   "source": [
    "import matplotlib.pyplot as plt\n",
    "import numpy as np\n",
    "# Import libraries\n",
    "import pandas as pd\n",
    "import seaborn as sns\n",
    "from imblearn.over_sampling import SMOTE\n",
    "from sklearn.ensemble import RandomForestClassifier\n",
    "from sklearn.linear_model import LogisticRegression\n",
    "#from sklearn.metrics import classification_report, confusion_matrix, accuracy_score\n",
    "from sklearn.metrics import classification_report, confusion_matrix, ConfusionMatrixDisplay\n",
    "from sklearn.model_selection import train_test_split\n",
    "from xgboost import XGBClassifier"
   ],
   "id": "initial_id",
   "outputs": [],
   "execution_count": 142
  },
  {
   "metadata": {
    "ExecuteTime": {
     "end_time": "2025-04-06T13:44:23.159320Z",
     "start_time": "2025-04-06T13:44:23.151174Z"
    }
   },
   "cell_type": "code",
   "source": [
    "# Load the data\n",
    "df = pd.read_csv('stroke_data.csv', sep=',', index_col=\"id\")"
   ],
   "id": "24d6c5c39b5a0ae4",
   "outputs": [],
   "execution_count": 143
  },
  {
   "metadata": {
    "ExecuteTime": {
     "end_time": "2025-04-06T13:44:23.166173Z",
     "start_time": "2025-04-06T13:44:23.162324Z"
    }
   },
   "cell_type": "code",
   "source": "print(df.head())",
   "id": "9a4c6f30e34b5ccb",
   "outputs": [
    {
     "name": "stdout",
     "output_type": "stream",
     "text": [
      "       gender   age  hypertension  heart_disease ever_married      work_type  \\\n",
      "id                                                                             \n",
      "9046     Male  67.0             0              1          Yes        Private   \n",
      "51676  Female  61.0             0              0          Yes  Self-employed   \n",
      "31112    Male  80.0             0              1          Yes        Private   \n",
      "60182  Female  49.0             0              0          Yes        Private   \n",
      "1665   Female  79.0             1              0          Yes  Self-employed   \n",
      "\n",
      "      Residence_type  avg_glucose_level   bmi   smoking_status  stroke  \n",
      "id                                                                      \n",
      "9046           Urban             228.69  36.6  formerly smoked       1  \n",
      "51676          Rural             202.21   NaN     never smoked       1  \n",
      "31112          Rural             105.92  32.5     never smoked       1  \n",
      "60182          Urban             171.23  34.4           smokes       1  \n",
      "1665           Rural             174.12  24.0     never smoked       1  \n"
     ]
    }
   ],
   "execution_count": 144
  },
  {
   "metadata": {
    "ExecuteTime": {
     "end_time": "2025-04-06T13:44:23.176460Z",
     "start_time": "2025-04-06T13:44:23.173178Z"
    }
   },
   "cell_type": "code",
   "source": [
    "# check the coulumn name\n",
    "df.columns"
   ],
   "id": "864c9339a80e2d02",
   "outputs": [
    {
     "data": {
      "text/plain": [
       "Index(['gender', 'age', 'hypertension', 'heart_disease', 'ever_married',\n",
       "       'work_type', 'Residence_type', 'avg_glucose_level', 'bmi',\n",
       "       'smoking_status', 'stroke'],\n",
       "      dtype='object')"
      ]
     },
     "execution_count": 145,
     "metadata": {},
     "output_type": "execute_result"
    }
   ],
   "execution_count": 145
  },
  {
   "metadata": {
    "ExecuteTime": {
     "end_time": "2025-04-06T13:44:23.204464Z",
     "start_time": "2025-04-06T13:44:23.194464Z"
    }
   },
   "cell_type": "code",
   "source": [
    "# describe the dataframe\n",
    "df.describe()"
   ],
   "id": "d885febae1485989",
   "outputs": [
    {
     "data": {
      "text/plain": [
       "               age  hypertension  heart_disease  avg_glucose_level  \\\n",
       "count  5110.000000   5110.000000    5110.000000        5110.000000   \n",
       "mean     43.226614      0.097456       0.054012         106.147677   \n",
       "std      22.612647      0.296607       0.226063          45.283560   \n",
       "min       0.080000      0.000000       0.000000          55.120000   \n",
       "25%      25.000000      0.000000       0.000000          77.245000   \n",
       "50%      45.000000      0.000000       0.000000          91.885000   \n",
       "75%      61.000000      0.000000       0.000000         114.090000   \n",
       "max      82.000000      1.000000       1.000000         271.740000   \n",
       "\n",
       "               bmi       stroke  \n",
       "count  4909.000000  5110.000000  \n",
       "mean     28.893237     0.048728  \n",
       "std       7.854067     0.215320  \n",
       "min      10.300000     0.000000  \n",
       "25%      23.500000     0.000000  \n",
       "50%      28.100000     0.000000  \n",
       "75%      33.100000     0.000000  \n",
       "max      97.600000     1.000000  "
      ],
      "text/html": [
       "<div>\n",
       "<style scoped>\n",
       "    .dataframe tbody tr th:only-of-type {\n",
       "        vertical-align: middle;\n",
       "    }\n",
       "\n",
       "    .dataframe tbody tr th {\n",
       "        vertical-align: top;\n",
       "    }\n",
       "\n",
       "    .dataframe thead th {\n",
       "        text-align: right;\n",
       "    }\n",
       "</style>\n",
       "<table border=\"1\" class=\"dataframe\">\n",
       "  <thead>\n",
       "    <tr style=\"text-align: right;\">\n",
       "      <th></th>\n",
       "      <th>age</th>\n",
       "      <th>hypertension</th>\n",
       "      <th>heart_disease</th>\n",
       "      <th>avg_glucose_level</th>\n",
       "      <th>bmi</th>\n",
       "      <th>stroke</th>\n",
       "    </tr>\n",
       "  </thead>\n",
       "  <tbody>\n",
       "    <tr>\n",
       "      <th>count</th>\n",
       "      <td>5110.000000</td>\n",
       "      <td>5110.000000</td>\n",
       "      <td>5110.000000</td>\n",
       "      <td>5110.000000</td>\n",
       "      <td>4909.000000</td>\n",
       "      <td>5110.000000</td>\n",
       "    </tr>\n",
       "    <tr>\n",
       "      <th>mean</th>\n",
       "      <td>43.226614</td>\n",
       "      <td>0.097456</td>\n",
       "      <td>0.054012</td>\n",
       "      <td>106.147677</td>\n",
       "      <td>28.893237</td>\n",
       "      <td>0.048728</td>\n",
       "    </tr>\n",
       "    <tr>\n",
       "      <th>std</th>\n",
       "      <td>22.612647</td>\n",
       "      <td>0.296607</td>\n",
       "      <td>0.226063</td>\n",
       "      <td>45.283560</td>\n",
       "      <td>7.854067</td>\n",
       "      <td>0.215320</td>\n",
       "    </tr>\n",
       "    <tr>\n",
       "      <th>min</th>\n",
       "      <td>0.080000</td>\n",
       "      <td>0.000000</td>\n",
       "      <td>0.000000</td>\n",
       "      <td>55.120000</td>\n",
       "      <td>10.300000</td>\n",
       "      <td>0.000000</td>\n",
       "    </tr>\n",
       "    <tr>\n",
       "      <th>25%</th>\n",
       "      <td>25.000000</td>\n",
       "      <td>0.000000</td>\n",
       "      <td>0.000000</td>\n",
       "      <td>77.245000</td>\n",
       "      <td>23.500000</td>\n",
       "      <td>0.000000</td>\n",
       "    </tr>\n",
       "    <tr>\n",
       "      <th>50%</th>\n",
       "      <td>45.000000</td>\n",
       "      <td>0.000000</td>\n",
       "      <td>0.000000</td>\n",
       "      <td>91.885000</td>\n",
       "      <td>28.100000</td>\n",
       "      <td>0.000000</td>\n",
       "    </tr>\n",
       "    <tr>\n",
       "      <th>75%</th>\n",
       "      <td>61.000000</td>\n",
       "      <td>0.000000</td>\n",
       "      <td>0.000000</td>\n",
       "      <td>114.090000</td>\n",
       "      <td>33.100000</td>\n",
       "      <td>0.000000</td>\n",
       "    </tr>\n",
       "    <tr>\n",
       "      <th>max</th>\n",
       "      <td>82.000000</td>\n",
       "      <td>1.000000</td>\n",
       "      <td>1.000000</td>\n",
       "      <td>271.740000</td>\n",
       "      <td>97.600000</td>\n",
       "      <td>1.000000</td>\n",
       "    </tr>\n",
       "  </tbody>\n",
       "</table>\n",
       "</div>"
      ]
     },
     "execution_count": 146,
     "metadata": {},
     "output_type": "execute_result"
    }
   ],
   "execution_count": 146
  },
  {
   "metadata": {
    "ExecuteTime": {
     "end_time": "2025-04-06T13:44:23.242137Z",
     "start_time": "2025-04-06T13:44:23.232110Z"
    }
   },
   "cell_type": "code",
   "source": [
    "# describe the dataframe T\n",
    "df.describe().T"
   ],
   "id": "aae038c52c751e24",
   "outputs": [
    {
     "data": {
      "text/plain": [
       "                    count        mean        std    min     25%     50%  \\\n",
       "age                5110.0   43.226614  22.612647   0.08  25.000  45.000   \n",
       "hypertension       5110.0    0.097456   0.296607   0.00   0.000   0.000   \n",
       "heart_disease      5110.0    0.054012   0.226063   0.00   0.000   0.000   \n",
       "avg_glucose_level  5110.0  106.147677  45.283560  55.12  77.245  91.885   \n",
       "bmi                4909.0   28.893237   7.854067  10.30  23.500  28.100   \n",
       "stroke             5110.0    0.048728   0.215320   0.00   0.000   0.000   \n",
       "\n",
       "                      75%     max  \n",
       "age                 61.00   82.00  \n",
       "hypertension         0.00    1.00  \n",
       "heart_disease        0.00    1.00  \n",
       "avg_glucose_level  114.09  271.74  \n",
       "bmi                 33.10   97.60  \n",
       "stroke               0.00    1.00  "
      ],
      "text/html": [
       "<div>\n",
       "<style scoped>\n",
       "    .dataframe tbody tr th:only-of-type {\n",
       "        vertical-align: middle;\n",
       "    }\n",
       "\n",
       "    .dataframe tbody tr th {\n",
       "        vertical-align: top;\n",
       "    }\n",
       "\n",
       "    .dataframe thead th {\n",
       "        text-align: right;\n",
       "    }\n",
       "</style>\n",
       "<table border=\"1\" class=\"dataframe\">\n",
       "  <thead>\n",
       "    <tr style=\"text-align: right;\">\n",
       "      <th></th>\n",
       "      <th>count</th>\n",
       "      <th>mean</th>\n",
       "      <th>std</th>\n",
       "      <th>min</th>\n",
       "      <th>25%</th>\n",
       "      <th>50%</th>\n",
       "      <th>75%</th>\n",
       "      <th>max</th>\n",
       "    </tr>\n",
       "  </thead>\n",
       "  <tbody>\n",
       "    <tr>\n",
       "      <th>age</th>\n",
       "      <td>5110.0</td>\n",
       "      <td>43.226614</td>\n",
       "      <td>22.612647</td>\n",
       "      <td>0.08</td>\n",
       "      <td>25.000</td>\n",
       "      <td>45.000</td>\n",
       "      <td>61.00</td>\n",
       "      <td>82.00</td>\n",
       "    </tr>\n",
       "    <tr>\n",
       "      <th>hypertension</th>\n",
       "      <td>5110.0</td>\n",
       "      <td>0.097456</td>\n",
       "      <td>0.296607</td>\n",
       "      <td>0.00</td>\n",
       "      <td>0.000</td>\n",
       "      <td>0.000</td>\n",
       "      <td>0.00</td>\n",
       "      <td>1.00</td>\n",
       "    </tr>\n",
       "    <tr>\n",
       "      <th>heart_disease</th>\n",
       "      <td>5110.0</td>\n",
       "      <td>0.054012</td>\n",
       "      <td>0.226063</td>\n",
       "      <td>0.00</td>\n",
       "      <td>0.000</td>\n",
       "      <td>0.000</td>\n",
       "      <td>0.00</td>\n",
       "      <td>1.00</td>\n",
       "    </tr>\n",
       "    <tr>\n",
       "      <th>avg_glucose_level</th>\n",
       "      <td>5110.0</td>\n",
       "      <td>106.147677</td>\n",
       "      <td>45.283560</td>\n",
       "      <td>55.12</td>\n",
       "      <td>77.245</td>\n",
       "      <td>91.885</td>\n",
       "      <td>114.09</td>\n",
       "      <td>271.74</td>\n",
       "    </tr>\n",
       "    <tr>\n",
       "      <th>bmi</th>\n",
       "      <td>4909.0</td>\n",
       "      <td>28.893237</td>\n",
       "      <td>7.854067</td>\n",
       "      <td>10.30</td>\n",
       "      <td>23.500</td>\n",
       "      <td>28.100</td>\n",
       "      <td>33.10</td>\n",
       "      <td>97.60</td>\n",
       "    </tr>\n",
       "    <tr>\n",
       "      <th>stroke</th>\n",
       "      <td>5110.0</td>\n",
       "      <td>0.048728</td>\n",
       "      <td>0.215320</td>\n",
       "      <td>0.00</td>\n",
       "      <td>0.000</td>\n",
       "      <td>0.000</td>\n",
       "      <td>0.00</td>\n",
       "      <td>1.00</td>\n",
       "    </tr>\n",
       "  </tbody>\n",
       "</table>\n",
       "</div>"
      ]
     },
     "execution_count": 147,
     "metadata": {},
     "output_type": "execute_result"
    }
   ],
   "execution_count": 147
  },
  {
   "metadata": {
    "ExecuteTime": {
     "end_time": "2025-04-06T13:44:23.318193Z",
     "start_time": "2025-04-06T13:44:23.309193Z"
    }
   },
   "cell_type": "code",
   "source": [
    "# describe the categorical data\n",
    "df[[\"gender\", \"ever_married\", \"work_type\", \"Residence_type\", \"smoking_status\"]].describe(exclude=float)"
   ],
   "id": "735ce2ee888f4533",
   "outputs": [
    {
     "data": {
      "text/plain": [
       "        gender ever_married work_type Residence_type smoking_status\n",
       "count     5110         5110      5110           5110           5110\n",
       "unique       3            2         5              2              4\n",
       "top     Female          Yes   Private          Urban   never smoked\n",
       "freq      2994         3353      2925           2596           1892"
      ],
      "text/html": [
       "<div>\n",
       "<style scoped>\n",
       "    .dataframe tbody tr th:only-of-type {\n",
       "        vertical-align: middle;\n",
       "    }\n",
       "\n",
       "    .dataframe tbody tr th {\n",
       "        vertical-align: top;\n",
       "    }\n",
       "\n",
       "    .dataframe thead th {\n",
       "        text-align: right;\n",
       "    }\n",
       "</style>\n",
       "<table border=\"1\" class=\"dataframe\">\n",
       "  <thead>\n",
       "    <tr style=\"text-align: right;\">\n",
       "      <th></th>\n",
       "      <th>gender</th>\n",
       "      <th>ever_married</th>\n",
       "      <th>work_type</th>\n",
       "      <th>Residence_type</th>\n",
       "      <th>smoking_status</th>\n",
       "    </tr>\n",
       "  </thead>\n",
       "  <tbody>\n",
       "    <tr>\n",
       "      <th>count</th>\n",
       "      <td>5110</td>\n",
       "      <td>5110</td>\n",
       "      <td>5110</td>\n",
       "      <td>5110</td>\n",
       "      <td>5110</td>\n",
       "    </tr>\n",
       "    <tr>\n",
       "      <th>unique</th>\n",
       "      <td>3</td>\n",
       "      <td>2</td>\n",
       "      <td>5</td>\n",
       "      <td>2</td>\n",
       "      <td>4</td>\n",
       "    </tr>\n",
       "    <tr>\n",
       "      <th>top</th>\n",
       "      <td>Female</td>\n",
       "      <td>Yes</td>\n",
       "      <td>Private</td>\n",
       "      <td>Urban</td>\n",
       "      <td>never smoked</td>\n",
       "    </tr>\n",
       "    <tr>\n",
       "      <th>freq</th>\n",
       "      <td>2994</td>\n",
       "      <td>3353</td>\n",
       "      <td>2925</td>\n",
       "      <td>2596</td>\n",
       "      <td>1892</td>\n",
       "    </tr>\n",
       "  </tbody>\n",
       "</table>\n",
       "</div>"
      ]
     },
     "execution_count": 148,
     "metadata": {},
     "output_type": "execute_result"
    }
   ],
   "execution_count": 148
  },
  {
   "metadata": {
    "ExecuteTime": {
     "end_time": "2025-04-06T13:44:23.426253Z",
     "start_time": "2025-04-06T13:44:23.419034Z"
    }
   },
   "cell_type": "code",
   "source": [
    "# check data types\n",
    "df.info()"
   ],
   "id": "44cb9c4de827e21e",
   "outputs": [
    {
     "name": "stdout",
     "output_type": "stream",
     "text": [
      "<class 'pandas.core.frame.DataFrame'>\n",
      "Int64Index: 5110 entries, 9046 to 44679\n",
      "Data columns (total 11 columns):\n",
      " #   Column             Non-Null Count  Dtype  \n",
      "---  ------             --------------  -----  \n",
      " 0   gender             5110 non-null   object \n",
      " 1   age                5110 non-null   float64\n",
      " 2   hypertension       5110 non-null   int64  \n",
      " 3   heart_disease      5110 non-null   int64  \n",
      " 4   ever_married       5110 non-null   object \n",
      " 5   work_type          5110 non-null   object \n",
      " 6   Residence_type     5110 non-null   object \n",
      " 7   avg_glucose_level  5110 non-null   float64\n",
      " 8   bmi                4909 non-null   float64\n",
      " 9   smoking_status     5110 non-null   object \n",
      " 10  stroke             5110 non-null   int64  \n",
      "dtypes: float64(3), int64(3), object(5)\n",
      "memory usage: 479.1+ KB\n"
     ]
    }
   ],
   "execution_count": 149
  },
  {
   "metadata": {
    "ExecuteTime": {
     "end_time": "2025-04-06T13:44:23.494901Z",
     "start_time": "2025-04-06T13:44:23.490520Z"
    }
   },
   "cell_type": "code",
   "source": [
    "# Check missing values\n",
    "print(df.isnull().sum())"
   ],
   "id": "d7608d400c480c31",
   "outputs": [
    {
     "name": "stdout",
     "output_type": "stream",
     "text": [
      "gender                 0\n",
      "age                    0\n",
      "hypertension           0\n",
      "heart_disease          0\n",
      "ever_married           0\n",
      "work_type              0\n",
      "Residence_type         0\n",
      "avg_glucose_level      0\n",
      "bmi                  201\n",
      "smoking_status         0\n",
      "stroke                 0\n",
      "dtype: int64\n"
     ]
    }
   ],
   "execution_count": 150
  },
  {
   "metadata": {},
   "cell_type": "markdown",
   "source": "bmi have 201 null values",
   "id": "91775528fbf55f9f"
  },
  {
   "metadata": {
    "ExecuteTime": {
     "end_time": "2025-04-06T13:44:23.547398Z",
     "start_time": "2025-04-06T13:44:23.544409Z"
    }
   },
   "cell_type": "code",
   "source": [
    "# Handle missing bmi by replacing with median\n",
    "df['bmi'].fillna(df['bmi'].median(), inplace=True)\n"
   ],
   "id": "d0a8f0e706e2d42d",
   "outputs": [],
   "execution_count": 151
  },
  {
   "metadata": {
    "ExecuteTime": {
     "end_time": "2025-04-06T13:44:23.595197Z",
     "start_time": "2025-04-06T13:44:23.591344Z"
    }
   },
   "cell_type": "code",
   "source": [
    "# show possible values in gender\n",
    "df[\"gender\"].unique()"
   ],
   "id": "69c730cf21f5b828",
   "outputs": [
    {
     "data": {
      "text/plain": [
       "array(['Male', 'Female', 'Other'], dtype=object)"
      ]
     },
     "execution_count": 152,
     "metadata": {},
     "output_type": "execute_result"
    }
   ],
   "execution_count": 152
  },
  {
   "metadata": {
    "ExecuteTime": {
     "end_time": "2025-04-06T13:44:23.659849Z",
     "start_time": "2025-04-06T13:44:23.656379Z"
    }
   },
   "cell_type": "code",
   "source": [
    "# show possible values in ever_married\n",
    "df[\"ever_married\"].unique()"
   ],
   "id": "12b92f2a577df451",
   "outputs": [
    {
     "data": {
      "text/plain": [
       "array(['Yes', 'No'], dtype=object)"
      ]
     },
     "execution_count": 153,
     "metadata": {},
     "output_type": "execute_result"
    }
   ],
   "execution_count": 153
  },
  {
   "metadata": {
    "ExecuteTime": {
     "end_time": "2025-04-06T13:44:23.687081Z",
     "start_time": "2025-04-06T13:44:23.683081Z"
    }
   },
   "cell_type": "code",
   "source": [
    "# show possible values in work_type\n",
    "df[\"work_type\"].unique()"
   ],
   "id": "9c82936a445f17d5",
   "outputs": [
    {
     "data": {
      "text/plain": [
       "array(['Private', 'Self-employed', 'Govt_job', 'children', 'Never_worked'],\n",
       "      dtype=object)"
      ]
     },
     "execution_count": 154,
     "metadata": {},
     "output_type": "execute_result"
    }
   ],
   "execution_count": 154
  },
  {
   "metadata": {
    "ExecuteTime": {
     "end_time": "2025-04-06T13:44:23.716395Z",
     "start_time": "2025-04-06T13:44:23.712358Z"
    }
   },
   "cell_type": "code",
   "source": [
    "# show possible values in Residence_type\n",
    "df[\"Residence_type\"].unique()"
   ],
   "id": "5eca8e7d55e458e6",
   "outputs": [
    {
     "data": {
      "text/plain": [
       "array(['Urban', 'Rural'], dtype=object)"
      ]
     },
     "execution_count": 155,
     "metadata": {},
     "output_type": "execute_result"
    }
   ],
   "execution_count": 155
  },
  {
   "metadata": {
    "ExecuteTime": {
     "end_time": "2025-04-06T13:44:23.736319Z",
     "start_time": "2025-04-06T13:44:23.732110Z"
    }
   },
   "cell_type": "code",
   "source": [
    "# show possible values in  smoking_status\n",
    "df[\"smoking_status\"].unique()"
   ],
   "id": "896ba462a8e31841",
   "outputs": [
    {
     "data": {
      "text/plain": [
       "array(['formerly smoked', 'never smoked', 'smokes', 'Unknown'],\n",
       "      dtype=object)"
      ]
     },
     "execution_count": 156,
     "metadata": {},
     "output_type": "execute_result"
    }
   ],
   "execution_count": 156
  },
  {
   "metadata": {
    "ExecuteTime": {
     "end_time": "2025-04-06T13:44:23.757700Z",
     "start_time": "2025-04-06T13:44:23.752454Z"
    }
   },
   "cell_type": "code",
   "source": [
    "# show possible values in  heart_disease\n",
    "df[\"heart_disease\"].unique()"
   ],
   "id": "5677218c66191d3c",
   "outputs": [
    {
     "data": {
      "text/plain": [
       "array([1, 0], dtype=int64)"
      ]
     },
     "execution_count": 157,
     "metadata": {},
     "output_type": "execute_result"
    }
   ],
   "execution_count": 157
  },
  {
   "metadata": {
    "ExecuteTime": {
     "end_time": "2025-04-06T13:44:23.779107Z",
     "start_time": "2025-04-06T13:44:23.775719Z"
    }
   },
   "cell_type": "code",
   "source": [
    "# show possible values in  hypertension\n",
    "df[\"hypertension\"].unique()"
   ],
   "id": "d7f9ff04c9758157",
   "outputs": [
    {
     "data": {
      "text/plain": [
       "array([0, 1], dtype=int64)"
      ]
     },
     "execution_count": 158,
     "metadata": {},
     "output_type": "execute_result"
    }
   ],
   "execution_count": 158
  },
  {
   "metadata": {},
   "cell_type": "markdown",
   "source": "Noticed that 'smoking_status' has 'Unknown' values.",
   "id": "7570087920f93bd4"
  },
  {
   "metadata": {
    "ExecuteTime": {
     "end_time": "2025-04-06T13:44:23.801606Z",
     "start_time": "2025-04-06T13:44:23.796714Z"
    }
   },
   "cell_type": "code",
   "source": [
    "# we can replace 'Unknown' by the mode (most common value)\n",
    "df['smoking_status'].replace('Unknown', np.nan, inplace=True)\n",
    "df['smoking_status'].fillna(df['smoking_status'].mode()[0], inplace=True)"
   ],
   "id": "ac3ebcaab3108e33",
   "outputs": [],
   "execution_count": 159
  },
  {
   "metadata": {
    "ExecuteTime": {
     "end_time": "2025-04-06T13:44:23.814849Z",
     "start_time": "2025-04-06T13:44:23.809624Z"
    }
   },
   "cell_type": "code",
   "source": [
    "# Check after cleaning\n",
    "print(df.isnull().sum())"
   ],
   "id": "5fbc957e0caaaaaf",
   "outputs": [
    {
     "name": "stdout",
     "output_type": "stream",
     "text": [
      "gender               0\n",
      "age                  0\n",
      "hypertension         0\n",
      "heart_disease        0\n",
      "ever_married         0\n",
      "work_type            0\n",
      "Residence_type       0\n",
      "avg_glucose_level    0\n",
      "bmi                  0\n",
      "smoking_status       0\n",
      "stroke               0\n",
      "dtype: int64\n"
     ]
    }
   ],
   "execution_count": 160
  },
  {
   "metadata": {
    "ExecuteTime": {
     "end_time": "2025-04-06T13:44:23.830018Z",
     "start_time": "2025-04-06T13:44:23.826969Z"
    }
   },
   "cell_type": "code",
   "source": "# Exploratory Data Analysis (EDA)",
   "id": "a9ce9d1921f3695f",
   "outputs": [],
   "execution_count": 161
  },
  {
   "metadata": {
    "ExecuteTime": {
     "end_time": "2025-04-06T13:44:23.886677Z",
     "start_time": "2025-04-06T13:44:23.832098Z"
    }
   },
   "cell_type": "code",
   "source": [
    "# Stroke distribution\n",
    "plt.figure(figsize=(6, 4))\n",
    "sns.countplot(x='stroke', data=df)\n",
    "plt.title('Stroke Distribution')\n",
    "plt.show()"
   ],
   "id": "dec0a2fd0a413ad6",
   "outputs": [
    {
     "data": {
      "text/plain": [
       "<Figure size 600x400 with 1 Axes>"
      ],
      "image/png": "[encoded data removed]"
     },
     "metadata": {},
     "output_type": "display_data"
    }
   ],
   "execution_count": 162
  },
  {
   "metadata": {
    "ExecuteTime": {
     "end_time": "2025-04-06T13:44:23.962965Z",
     "start_time": "2025-04-06T13:44:23.891765Z"
    }
   },
   "cell_type": "code",
   "source": [
    "# Gender vs Stroke\n",
    "df['stroke'] = df['stroke'].astype(str)\n",
    "plt.figure(figsize=(6, 4))\n",
    "sns.countplot(x='gender', hue='stroke', data=df)\n",
    "plt.title('Gender vs Stroke')\n",
    "plt.show()\n"
   ],
   "id": "b6c84a85648c0b6b",
   "outputs": [
    {
     "data": {
      "text/plain": [
       "<Figure size 600x400 with 1 Axes>"
      ],
      "image/png": "[encoded data removed]"
     },
     "metadata": {},
     "output_type": "display_data"
    }
   ],
   "execution_count": 163
  },
  {
   "metadata": {
    "ExecuteTime": {
     "end_time": "2025-04-06T13:44:24.068625Z",
     "start_time": "2025-04-06T13:44:23.966054Z"
    }
   },
   "cell_type": "code",
   "source": [
    "# Age distribution\n",
    "plt.figure(figsize=(8, 6))\n",
    "sns.histplot(df['age'], kde=True, bins=30)\n",
    "plt.title('Age Distribution')\n",
    "plt.show()\n"
   ],
   "id": "76dc51d62ac0f6d2",
   "outputs": [
    {
     "data": {
      "text/plain": [
       "<Figure size 800x600 with 1 Axes>"
      ],
      "image/png": "[encoded data removed]"
     },
     "metadata": {},
     "output_type": "display_data"
    }
   ],
   "execution_count": 164
  },
  {
   "metadata": {
    "ExecuteTime": {
     "end_time": "2025-04-06T13:44:24.128700Z",
     "start_time": "2025-04-06T13:44:24.071680Z"
    }
   },
   "cell_type": "code",
   "source": [
    "# Age vs Stroke\n",
    "plt.figure(figsize=(8, 6))\n",
    "sns.boxplot(x='stroke', y='age', data=df)\n",
    "plt.title('Age vs Stroke')\n",
    "plt.show()\n"
   ],
   "id": "b02c210dc21eb05d",
   "outputs": [
    {
     "data": {
      "text/plain": [
       "<Figure size 800x600 with 1 Axes>"
      ],
      "image/png": "[encoded data removed]"
     },
     "metadata": {},
     "output_type": "display_data"
    }
   ],
   "execution_count": 165
  },
  {
   "metadata": {},
   "cell_type": "markdown",
   "source": "Stroke risk increases with age.",
   "id": "833fdd56e230be1f"
  },
  {
   "metadata": {
    "ExecuteTime": {
     "end_time": "2025-04-06T13:44:24.194577Z",
     "start_time": "2025-04-06T13:44:24.131756Z"
    }
   },
   "cell_type": "code",
   "source": [
    "# Hypertension vs Stroke\n",
    "df['stroke'] = df['stroke'].astype(str)\n",
    "plt.figure(figsize=(6, 4))\n",
    "sns.countplot(x='hypertension', hue='stroke', data=df)\n",
    "plt.title('Hypertension vs Stroke')\n",
    "plt.show()"
   ],
   "id": "45ffe43d05cf7465",
   "outputs": [
    {
     "data": {
      "text/plain": [
       "<Figure size 600x400 with 1 Axes>"
      ],
      "image/png": "[encoded data removed]"
     },
     "metadata": {},
     "output_type": "display_data"
    }
   ],
   "execution_count": 166
  },
  {
   "metadata": {},
   "cell_type": "markdown",
   "source": "Stroke risk is higher among patients with hypertension",
   "id": "880b4a86eb00b6c7"
  },
  {
   "metadata": {
    "ExecuteTime": {
     "end_time": "2025-04-06T13:44:24.267066Z",
     "start_time": "2025-04-06T13:44:24.205271Z"
    }
   },
   "cell_type": "code",
   "source": [
    "# Heart Disease vs Stroke\n",
    "df['stroke'] = df['stroke'].astype(str)\n",
    "plt.figure(figsize=(6, 4))\n",
    "sns.countplot(x='heart_disease', hue='stroke', data=df)\n",
    "plt.title('Heart Disease vs Stroke')\n",
    "plt.show()"
   ],
   "id": "5c4e1d33bea40b21",
   "outputs": [
    {
     "data": {
      "text/plain": [
       "<Figure size 600x400 with 1 Axes>"
      ],
      "image/png": "[encoded data removed]"
     },
     "metadata": {},
     "output_type": "display_data"
    }
   ],
   "execution_count": 167
  },
  {
   "metadata": {},
   "cell_type": "markdown",
   "source": "Stroke risk is higher among patients with heart disease",
   "id": "e3018addfc2bacf4"
  },
  {
   "metadata": {
    "ExecuteTime": {
     "end_time": "2025-04-06T13:44:24.350313Z",
     "start_time": "2025-04-06T13:44:24.271152Z"
    }
   },
   "cell_type": "code",
   "source": [
    "# Smoking Status Vs Stroke\n",
    "df['stroke'] = df['stroke'].astype(str)\n",
    "\n",
    "plt.figure(figsize=(10, 6))  # Define figure size\n",
    "sns.countplot(x='smoking_status', hue='stroke', data=df)  # Create the countplot\n",
    "\n",
    "plt.title('Smoking Status vs Stroke')  # Add title\n",
    "plt.xlabel('Smoking Status')  # Add label to x-axis\n",
    "plt.ylabel('Count')  # Add label to y-axis\n",
    "plt.legend(title='Stroke')  # Set legend title to ensure readability\n",
    "\n",
    "plt.show()"
   ],
   "id": "4a232dcf20f2431f",
   "outputs": [
    {
     "data": {
      "text/plain": [
       "<Figure size 1000x600 with 1 Axes>"
      ],
      "image/png": "[encoded data removed]"
     },
     "metadata": {},
     "output_type": "display_data"
    }
   ],
   "execution_count": 168
  },
  {
   "metadata": {},
   "cell_type": "markdown",
   "source": "Former smokers and current smokers have a slightly higher stroke risk",
   "id": "8322f0f13fcfbfc3"
  },
  {
   "metadata": {
    "ExecuteTime": {
     "end_time": "2025-04-06T13:44:24.450613Z",
     "start_time": "2025-04-06T13:44:24.353396Z"
    }
   },
   "cell_type": "code",
   "source": [
    "# Correlation heatmap\n",
    "plt.figure(figsize=(10, 8))\n",
    "sns.heatmap(df.corr(), annot=True, cmap='coolwarm')\n",
    "plt.title('Feature Correlation')\n",
    "plt.show()"
   ],
   "id": "e8e4c6bd00c90aee",
   "outputs": [
    {
     "data": {
      "text/plain": [
       "<Figure size 1000x800 with 2 Axes>"
      ],
      "image/png": "[encoded data removed]"
     },
     "metadata": {},
     "output_type": "display_data"
    }
   ],
   "execution_count": 169
  },
  {
   "metadata": {},
   "cell_type": "markdown",
   "source": "# Encode categorical variables",
   "id": "472f2ab9a04f6dd6"
  },
  {
   "metadata": {
    "ExecuteTime": {
     "end_time": "2025-04-06T13:44:24.458563Z",
     "start_time": "2025-04-06T13:44:24.453354Z"
    }
   },
   "cell_type": "code",
   "source": "df = pd.concat([df, pd.get_dummies(df.gender, prefix='gender')], axis=1).drop(columns=\"gender\")",
   "id": "a4abb17a4e454b9e",
   "outputs": [],
   "execution_count": 170
  },
  {
   "metadata": {
    "ExecuteTime": {
     "end_time": "2025-04-06T13:44:24.469587Z",
     "start_time": "2025-04-06T13:44:24.463667Z"
    }
   },
   "cell_type": "code",
   "source": "df = pd.concat([df, pd.get_dummies(df.ever_married, prefix='ever_married')], axis=1).drop(columns=\"ever_married\")",
   "id": "f288bfc0d0c2f783",
   "outputs": [],
   "execution_count": 171
  },
  {
   "metadata": {
    "ExecuteTime": {
     "end_time": "2025-04-06T13:44:24.478708Z",
     "start_time": "2025-04-06T13:44:24.471681Z"
    }
   },
   "cell_type": "code",
   "source": "df = pd.concat([df, pd.get_dummies(df.work_type, prefix='work_type')], axis=1).drop(columns=\"work_type\")",
   "id": "979d6644b6830aa3",
   "outputs": [],
   "execution_count": 172
  },
  {
   "metadata": {
    "ExecuteTime": {
     "end_time": "2025-04-06T13:44:24.487023Z",
     "start_time": "2025-04-06T13:44:24.480793Z"
    }
   },
   "cell_type": "code",
   "source": "df = pd.concat([df, pd.get_dummies(df.Residence_type, prefix='Residence_type')], axis=1).drop(columns=\"Residence_type\")",
   "id": "79ee0f47cc776c31",
   "outputs": [],
   "execution_count": 173
  },
  {
   "metadata": {
    "ExecuteTime": {
     "end_time": "2025-04-06T13:44:24.497024Z",
     "start_time": "2025-04-06T13:44:24.488769Z"
    }
   },
   "cell_type": "code",
   "source": "df = pd.concat([df, pd.get_dummies(df.smoking_status, prefix='smoking_status')], axis=1).drop(columns=\"smoking_status\")",
   "id": "e741645c6ecfcd5c",
   "outputs": [],
   "execution_count": 174
  },
  {
   "metadata": {
    "ExecuteTime": {
     "end_time": "2025-04-06T13:44:24.517107Z",
     "start_time": "2025-04-06T13:44:24.508087Z"
    }
   },
   "cell_type": "code",
   "source": "df.head(3)",
   "id": "57ba01bfb347b8c3",
   "outputs": [
    {
     "data": {
      "text/plain": [
       "        age  hypertension  heart_disease  avg_glucose_level   bmi stroke  \\\n",
       "id                                                                         \n",
       "9046   67.0             0              1             228.69  36.6      1   \n",
       "51676  61.0             0              0             202.21  28.1      1   \n",
       "31112  80.0             0              1             105.92  32.5      1   \n",
       "\n",
       "       gender_Female  gender_Male  gender_Other  ever_married_No  ...  \\\n",
       "id                                                                ...   \n",
       "9046               0            1             0                0  ...   \n",
       "51676              1            0             0                0  ...   \n",
       "31112              0            1             0                0  ...   \n",
       "\n",
       "       work_type_Govt_job  work_type_Never_worked  work_type_Private  \\\n",
       "id                                                                     \n",
       "9046                    0                       0                  1   \n",
       "51676                   0                       0                  0   \n",
       "31112                   0                       0                  1   \n",
       "\n",
       "       work_type_Self-employed  work_type_children  Residence_type_Rural  \\\n",
       "id                                                                         \n",
       "9046                         0                   0                     0   \n",
       "51676                        1                   0                     1   \n",
       "31112                        0                   0                     1   \n",
       "\n",
       "       Residence_type_Urban  smoking_status_formerly smoked  \\\n",
       "id                                                            \n",
       "9046                      1                               1   \n",
       "51676                     0                               0   \n",
       "31112                     0                               0   \n",
       "\n",
       "       smoking_status_never smoked  smoking_status_smokes  \n",
       "id                                                         \n",
       "9046                             0                      0  \n",
       "51676                            1                      0  \n",
       "31112                            1                      0  \n",
       "\n",
       "[3 rows x 21 columns]"
      ],
      "text/html": [
       "<div>\n",
       "<style scoped>\n",
       "    .dataframe tbody tr th:only-of-type {\n",
       "        vertical-align: middle;\n",
       "    }\n",
       "\n",
       "    .dataframe tbody tr th {\n",
       "        vertical-align: top;\n",
       "    }\n",
       "\n",
       "    .dataframe thead th {\n",
       "        text-align: right;\n",
       "    }\n",
       "</style>\n",
       "<table border=\"1\" class=\"dataframe\">\n",
       "  <thead>\n",
       "    <tr style=\"text-align: right;\">\n",
       "      <th></th>\n",
       "      <th>age</th>\n",
       "      <th>hypertension</th>\n",
       "      <th>heart_disease</th>\n",
       "      <th>avg_glucose_level</th>\n",
       "      <th>bmi</th>\n",
       "      <th>stroke</th>\n",
       "      <th>gender_Female</th>\n",
       "      <th>gender_Male</th>\n",
       "      <th>gender_Other</th>\n",
       "      <th>ever_married_No</th>\n",
       "      <th>...</th>\n",
       "      <th>work_type_Govt_job</th>\n",
       "      <th>work_type_Never_worked</th>\n",
       "      <th>work_type_Private</th>\n",
       "      <th>work_type_Self-employed</th>\n",
       "      <th>work_type_children</th>\n",
       "      <th>Residence_type_Rural</th>\n",
       "      <th>Residence_type_Urban</th>\n",
       "      <th>smoking_status_formerly smoked</th>\n",
       "      <th>smoking_status_never smoked</th>\n",
       "      <th>smoking_status_smokes</th>\n",
       "    </tr>\n",
       "    <tr>\n",
       "      <th>id</th>\n",
       "      <th></th>\n",
       "      <th></th>\n",
       "      <th></th>\n",
       "      <th></th>\n",
       "      <th></th>\n",
       "      <th></th>\n",
       "      <th></th>\n",
       "      <th></th>\n",
       "      <th></th>\n",
       "      <th></th>\n",
       "      <th></th>\n",
       "      <th></th>\n",
       "      <th></th>\n",
       "      <th></th>\n",
       "      <th></th>\n",
       "      <th></th>\n",
       "      <th></th>\n",
       "      <th></th>\n",
       "      <th></th>\n",
       "      <th></th>\n",
       "      <th></th>\n",
       "    </tr>\n",
       "  </thead>\n",
       "  <tbody>\n",
       "    <tr>\n",
       "      <th>9046</th>\n",
       "      <td>67.0</td>\n",
       "      <td>0</td>\n",
       "      <td>1</td>\n",
       "      <td>228.69</td>\n",
       "      <td>36.6</td>\n",
       "      <td>1</td>\n",
       "      <td>0</td>\n",
       "      <td>1</td>\n",
       "      <td>0</td>\n",
       "      <td>0</td>\n",
       "      <td>...</td>\n",
       "      <td>0</td>\n",
       "      <td>0</td>\n",
       "      <td>1</td>\n",
       "      <td>0</td>\n",
       "      <td>0</td>\n",
       "      <td>0</td>\n",
       "      <td>1</td>\n",
       "      <td>1</td>\n",
       "      <td>0</td>\n",
       "      <td>0</td>\n",
       "    </tr>\n",
       "    <tr>\n",
       "      <th>51676</th>\n",
       "      <td>61.0</td>\n",
       "      <td>0</td>\n",
       "      <td>0</td>\n",
       "      <td>202.21</td>\n",
       "      <td>28.1</td>\n",
       "      <td>1</td>\n",
       "      <td>1</td>\n",
       "      <td>0</td>\n",
       "      <td>0</td>\n",
       "      <td>0</td>\n",
       "      <td>...</td>\n",
       "      <td>0</td>\n",
       "      <td>0</td>\n",
       "      <td>0</td>\n",
       "      <td>1</td>\n",
       "      <td>0</td>\n",
       "      <td>1</td>\n",
       "      <td>0</td>\n",
       "      <td>0</td>\n",
       "      <td>1</td>\n",
       "      <td>0</td>\n",
       "    </tr>\n",
       "    <tr>\n",
       "      <th>31112</th>\n",
       "      <td>80.0</td>\n",
       "      <td>0</td>\n",
       "      <td>1</td>\n",
       "      <td>105.92</td>\n",
       "      <td>32.5</td>\n",
       "      <td>1</td>\n",
       "      <td>0</td>\n",
       "      <td>1</td>\n",
       "      <td>0</td>\n",
       "      <td>0</td>\n",
       "      <td>...</td>\n",
       "      <td>0</td>\n",
       "      <td>0</td>\n",
       "      <td>1</td>\n",
       "      <td>0</td>\n",
       "      <td>0</td>\n",
       "      <td>1</td>\n",
       "      <td>0</td>\n",
       "      <td>0</td>\n",
       "      <td>1</td>\n",
       "      <td>0</td>\n",
       "    </tr>\n",
       "  </tbody>\n",
       "</table>\n",
       "<p>3 rows × 21 columns</p>\n",
       "</div>"
      ]
     },
     "execution_count": 175,
     "metadata": {},
     "output_type": "execute_result"
    }
   ],
   "execution_count": 175
  },
  {
   "metadata": {
    "ExecuteTime": {
     "end_time": "2025-04-06T13:44:24.545143Z",
     "start_time": "2025-04-06T13:44:24.541808Z"
    }
   },
   "cell_type": "code",
   "source": [
    "# Split and Apply SMOTE\n",
    "X = df.drop('stroke', axis=1)\n",
    "y = df['stroke']"
   ],
   "id": "31bd5739b5114683",
   "outputs": [],
   "execution_count": 176
  },
  {
   "metadata": {
    "ExecuteTime": {
     "end_time": "2025-04-06T13:44:24.595004Z",
     "start_time": "2025-04-06T13:44:24.587897Z"
    }
   },
   "cell_type": "code",
   "source": "X_train, X_test, y_train, y_test = train_test_split(X, y, test_size=0.2, random_state=42, stratify=y)",
   "id": "37699314bdc4e480",
   "outputs": [],
   "execution_count": 177
  },
  {
   "metadata": {
    "ExecuteTime": {
     "end_time": "2025-04-06T13:44:24.713528Z",
     "start_time": "2025-04-06T13:44:24.656782Z"
    }
   },
   "cell_type": "code",
   "source": [
    "smote = SMOTE(random_state=42)\n",
    "X_train_bal, y_train_bal = smote.fit_resample(X_train, y_train)"
   ],
   "id": "971a8fea73ecf086",
   "outputs": [],
   "execution_count": 178
  },
  {
   "metadata": {
    "ExecuteTime": {
     "end_time": "2025-04-06T13:44:24.775921Z",
     "start_time": "2025-04-06T13:44:24.771669Z"
    }
   },
   "cell_type": "code",
   "source": [
    "print('Before SMOTE:', y_train.value_counts())\n",
    "print('-------')\n",
    "print('After SMOTE:', y_train_bal.value_counts())"
   ],
   "id": "207526f037a27a79",
   "outputs": [
    {
     "name": "stdout",
     "output_type": "stream",
     "text": [
      "Before SMOTE: 0    3889\n",
      "1     199\n",
      "Name: stroke, dtype: int64\n",
      "-------\n",
      "After SMOTE: 0    3889\n",
      "1    3889\n",
      "Name: stroke, dtype: int64\n"
     ]
    }
   ],
   "execution_count": 179
  },
  {
   "metadata": {},
   "cell_type": "markdown",
   "source": [
    "Model Training\n",
    "will Try the below models:\n",
    "\n",
    "1- Logistic Regression\n",
    "\n",
    "2- Random Forest\n",
    "\n",
    "3- XGBoost"
   ],
   "id": "ef09b3e78a6129f1"
  },
  {
   "metadata": {
    "ExecuteTime": {
     "end_time": "2025-04-06T13:44:25.327904Z",
     "start_time": "2025-04-06T13:44:24.812304Z"
    }
   },
   "cell_type": "code",
   "source": [
    "# Model Training\n",
    "# Logistic Regression\n",
    "lRegression = LogisticRegression(max_iter=1000)\n",
    "lRegression.fit(X_train_bal, y_train_bal)\n",
    "y_pred_lRegression = lRegression.predict(X_test)"
   ],
   "id": "c26833e7273446f1",
   "outputs": [],
   "execution_count": 180
  },
  {
   "metadata": {
    "ExecuteTime": {
     "end_time": "2025-04-06T13:44:25.346832Z",
     "start_time": "2025-04-06T13:44:25.331442Z"
    }
   },
   "cell_type": "code",
   "source": [
    "# Logistic Regression\n",
    "y_pred_lRegression = y_pred_lRegression.astype(str)\n",
    "print(\"Logistic Regression Results:\")\n",
    "print(classification_report(y_test, y_pred_lRegression))"
   ],
   "id": "f66221f539af7d10",
   "outputs": [
    {
     "name": "stdout",
     "output_type": "stream",
     "text": [
      "Logistic Regression Results:\n",
      "              precision    recall  f1-score   support\n",
      "\n",
      "           0       0.96      0.99      0.97       972\n",
      "           1       0.44      0.14      0.21        50\n",
      "\n",
      "    accuracy                           0.95      1022\n",
      "   macro avg       0.70      0.57      0.59      1022\n",
      "weighted avg       0.93      0.95      0.94      1022\n",
      "\n"
     ]
    }
   ],
   "execution_count": 181
  },
  {
   "metadata": {
    "ExecuteTime": {
     "end_time": "2025-04-06T13:44:25.358330Z",
     "start_time": "2025-04-06T13:44:25.350954Z"
    }
   },
   "cell_type": "code",
   "source": [
    "# confusion matrix\n",
    "cf = pd.DataFrame(columns=[\"0\", \"1\"], index=[\"0\", \"1\"])\n",
    "cf.loc[:, :] = confusion_matrix(y_true=y_test, y_pred=y_pred_lRegression)\n",
    "print(cf)\n",
    "print('')\n",
    "print(cf / len(y_test))"
   ],
   "id": "f73b11d1065b720b",
   "outputs": [
    {
     "name": "stdout",
     "output_type": "stream",
     "text": [
      "     0  1\n",
      "0  963  9\n",
      "1   43  7\n",
      "\n",
      "          0         1\n",
      "0   0.94227  0.008806\n",
      "1  0.042074  0.006849\n"
     ]
    }
   ],
   "execution_count": 182
  },
  {
   "metadata": {
    "ExecuteTime": {
     "end_time": "2025-04-06T13:44:25.432300Z",
     "start_time": "2025-04-06T13:44:25.363138Z"
    }
   },
   "cell_type": "code",
   "source": [
    "# confusion_matrix display\n",
    "ConfusionMatrixDisplay(confusion_matrix(y_test, y_pred_lRegression)).plot()\n",
    "plt.title(\"Confusion Matrix - Logistic Regression\")\n",
    "plt.show()"
   ],
   "id": "8f71a8da580bd6e1",
   "outputs": [
    {
     "data": {
      "text/plain": [
       "<Figure size 640x480 with 2 Axes>"
      ],
      "image/png": "[encoded data removed]"
     },
     "metadata": {},
     "output_type": "display_data"
    }
   ],
   "execution_count": 183
  },
  {
   "metadata": {
    "ExecuteTime": {
     "end_time": "2025-04-06T13:44:25.838678Z",
     "start_time": "2025-04-06T13:44:25.434398Z"
    }
   },
   "cell_type": "code",
   "source": [
    "# Random Forest\n",
    "rForest = RandomForestClassifier()\n",
    "rForest.fit(X_train_bal, y_train_bal)\n",
    "y_pred_rForest = rForest.predict(X_test)\n"
   ],
   "id": "27fb9e0042e15743",
   "outputs": [],
   "execution_count": 184
  },
  {
   "metadata": {
    "ExecuteTime": {
     "end_time": "2025-04-06T13:44:25.858492Z",
     "start_time": "2025-04-06T13:44:25.842768Z"
    }
   },
   "cell_type": "code",
   "source": [
    "# Random Forest\n",
    "y_pred_rForest = y_pred_rForest.astype(str)\n",
    "print(\"Random Forest Results:\")\n",
    "print(classification_report(y_test, y_pred_rForest))\n",
    "#print(confusion_matrix(y_test, y_pred_rForest))"
   ],
   "id": "a5435c6d5d2e0b7b",
   "outputs": [
    {
     "name": "stdout",
     "output_type": "stream",
     "text": [
      "Random Forest Results:\n",
      "              precision    recall  f1-score   support\n",
      "\n",
      "           0       0.95      0.99      0.97       972\n",
      "           1       0.18      0.06      0.09        50\n",
      "\n",
      "    accuracy                           0.94      1022\n",
      "   macro avg       0.56      0.52      0.53      1022\n",
      "weighted avg       0.92      0.94      0.93      1022\n",
      "\n"
     ]
    }
   ],
   "execution_count": 185
  },
  {
   "metadata": {
    "ExecuteTime": {
     "end_time": "2025-04-06T13:44:25.868799Z",
     "start_time": "2025-04-06T13:44:25.862682Z"
    }
   },
   "cell_type": "code",
   "source": [
    "# confusion_matrix\n",
    "cf_forest = pd.DataFrame(columns=[\"0\", \"1\"], index=[\"0\", \"1\"])\n",
    "cf_forest.loc[:, :] = confusion_matrix(y_true=y_test, y_pred=y_pred_rForest)\n",
    "print(cf_forest)\n",
    "print('')\n",
    "print(cf_forest / len(y_test))"
   ],
   "id": "6cfe749760fb0d62",
   "outputs": [
    {
     "name": "stdout",
     "output_type": "stream",
     "text": [
      "     0   1\n",
      "0  958  14\n",
      "1   47   3\n",
      "\n",
      "          0         1\n",
      "0  0.937378  0.013699\n",
      "1  0.045988  0.002935\n"
     ]
    }
   ],
   "execution_count": 186
  },
  {
   "metadata": {
    "ExecuteTime": {
     "end_time": "2025-04-06T13:44:25.943344Z",
     "start_time": "2025-04-06T13:44:25.871935Z"
    }
   },
   "cell_type": "code",
   "source": [
    "# confusion_matrix display\n",
    "ConfusionMatrixDisplay(confusion_matrix(y_test, y_pred_rForest)).plot()\n",
    "plt.title(\"Confusion Matrix - Random Forest\")\n",
    "plt.show()"
   ],
   "id": "d4f911a0b67ac55e",
   "outputs": [
    {
     "data": {
      "text/plain": [
       "<Figure size 640x480 with 2 Axes>"
      ],
      "image/png": "[encoded data removed]"
     },
     "metadata": {},
     "output_type": "display_data"
    }
   ],
   "execution_count": 187
  },
  {
   "metadata": {
    "ExecuteTime": {
     "end_time": "2025-04-06T13:44:26.017816Z",
     "start_time": "2025-04-06T13:44:25.946007Z"
    }
   },
   "cell_type": "code",
   "source": [
    "# XGBoost\n",
    "# Convert y_train_bal, and y_test from strings to integers\n",
    "y_train_bal = y_train_bal.astype(int)\n",
    "y_test = y_test.astype(int)\n",
    "\n",
    "xgb = XGBClassifier(eval_metric='logloss')\n",
    "xgb.fit(X_train_bal, y_train_bal)\n",
    "y_pred_xgb = xgb.predict(X_test)"
   ],
   "id": "b2e4dd9e28883457",
   "outputs": [],
   "execution_count": 188
  },
  {
   "metadata": {
    "ExecuteTime": {
     "end_time": "2025-04-06T13:44:26.032819Z",
     "start_time": "2025-04-06T13:44:26.022819Z"
    }
   },
   "cell_type": "code",
   "source": [
    "# XGBoost\n",
    "y_pred_xgb = y_pred_xgb.astype(int)\n",
    "print(\"XGBoost Results:\")\n",
    "print(classification_report(y_test, y_pred_xgb))\n",
    "#print(confusion_matrix(y_test, y_pred_xgb))"
   ],
   "id": "984fa13c4a2ae1bc",
   "outputs": [
    {
     "name": "stdout",
     "output_type": "stream",
     "text": [
      "XGBoost Results:\n",
      "              precision    recall  f1-score   support\n",
      "\n",
      "           0       0.95      0.98      0.96       972\n",
      "           1       0.17      0.10      0.13        50\n",
      "\n",
      "    accuracy                           0.93      1022\n",
      "   macro avg       0.56      0.54      0.55      1022\n",
      "weighted avg       0.92      0.93      0.92      1022\n",
      "\n"
     ]
    }
   ],
   "execution_count": 189
  },
  {
   "metadata": {
    "ExecuteTime": {
     "end_time": "2025-04-06T13:44:26.046331Z",
     "start_time": "2025-04-06T13:44:26.037325Z"
    }
   },
   "cell_type": "code",
   "source": [
    "# confusion_matrix\n",
    "cf_xgb = pd.DataFrame(columns=[\"0\", \"1\"], index=[\"0\", \"1\"])\n",
    "cf_xgb.loc[:, :] = confusion_matrix(y_true=y_test, y_pred=y_pred_xgb)\n",
    "print(cf_xgb)\n",
    "print('')\n",
    "print(cf_xgb / len(y_test))"
   ],
   "id": "c233296d82ac12ab",
   "outputs": [
    {
     "name": "stdout",
     "output_type": "stream",
     "text": [
      "     0   1\n",
      "0  948  24\n",
      "1   45   5\n",
      "\n",
      "          0         1\n",
      "0  0.927593  0.023483\n",
      "1  0.044031  0.004892\n"
     ]
    }
   ],
   "execution_count": 190
  },
  {
   "metadata": {
    "ExecuteTime": {
     "end_time": "2025-04-06T13:44:26.151481Z",
     "start_time": "2025-04-06T13:44:26.054836Z"
    }
   },
   "cell_type": "code",
   "source": [
    "# confusion_matrix display\n",
    "ConfusionMatrixDisplay(confusion_matrix(y_test, y_pred_xgb)).plot()\n",
    "plt.title(\"Confusion Matrix - XGBoost\")\n",
    "plt.show()"
   ],
   "id": "b4404cea85684c3",
   "outputs": [
    {
     "data": {
      "text/plain": [
       "<Figure size 640x480 with 2 Axes>"
      ],
      "image/png": "[encoded data removed]"
     },
     "metadata": {},
     "output_type": "display_data"
    }
   ],
   "execution_count": 191
  },
  {
   "metadata": {},
   "cell_type": "markdown",
   "source": "Model Evaluation all models",
   "id": "2528f42cd35355eb"
  },
  {
   "metadata": {
    "ExecuteTime": {
     "end_time": "2025-04-06T13:44:26.161385Z",
     "start_time": "2025-04-06T13:44:26.158488Z"
    }
   },
   "cell_type": "code",
   "source": [
    "# Manual Testing\n",
    "# Get all training features\n",
    "columns = X_train.columns.tolist()\n",
    "\n",
    "# Create a base dictionary with all features set to 0\n",
    "input_data = {col: 0 for col in columns}\n",
    "\n",
    "# add any columns with its value to predict if stroke is negative or positive\n",
    "input_data.update({\n",
    "    'age': 67.0,  # Age of the patient\n",
    "    'hypertension': 1,  # 1 if patient has hypertension, 0 otherwise\n",
    "    'heart_disease': 0,  # 1 if patient has heart disease, 0 otherwise\n",
    "    'avg_glucose_level': 228.69,  # Average glucose level\n",
    "    'bmi': 36.6,  # Body mass index\n",
    "    'gender_Male': 1,  # 1 if Male\n",
    "    'ever_married_Yes': 1,  # 1 if ever married\n",
    "    'work_type_Private': 1,  # 1 if Private worker\n",
    "    'Residence_type_Urban': 1,  # 1 if Urban residence\n",
    "    'smoking_status_formerly smoked': 1,  # 1 if formerly smoked\n",
    "})"
   ],
   "id": "c3ff633cb9c07ef2",
   "outputs": [],
   "execution_count": 192
  },
  {
   "metadata": {
    "ExecuteTime": {
     "end_time": "2025-04-06T13:44:26.181390Z",
     "start_time": "2025-04-06T13:44:26.166389Z"
    }
   },
   "cell_type": "code",
   "source": [
    "# Convert to DataFrame\n",
    "input_df = pd.DataFrame([input_data])"
   ],
   "id": "9afb0481c75625e3",
   "outputs": [],
   "execution_count": 193
  },
  {
   "metadata": {
    "ExecuteTime": {
     "end_time": "2025-04-06T13:44:26.203898Z",
     "start_time": "2025-04-06T13:44:26.184915Z"
    }
   },
   "cell_type": "code",
   "source": [
    "# Predict\n",
    "predicted_class = xgb.predict(input_df)[0]\n",
    "print(\"Prediction:\", \"Stroke\" if predicted_class == 1 else \"No Stroke\")"
   ],
   "id": "8bae965c4d6dcb84",
   "outputs": [
    {
     "name": "stdout",
     "output_type": "stream",
     "text": [
      "Prediction: No Stroke\n"
     ]
    }
   ],
   "execution_count": 194
  }
 ],
 "metadata": {
  "kernelspec": {
   "display_name": "Python 3",
   "language": "python",
   "name": "python3"
  },
  "language_info": {
   "codemirror_mode": {
    "name": "ipython",
    "version": 2
   },
   "file_extension": ".py",
   "mimetype": "text/x-python",
   "name": "python",
   "nbconvert_exporter": "python",
   "pygments_lexer": "ipython2",
   "version": "2.7.6"
  }
 },
 "nbformat": 4,
 "nbformat_minor": 5
}
