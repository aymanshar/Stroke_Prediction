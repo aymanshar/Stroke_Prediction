{
 "cells": [
  {
   "metadata": {},
   "cell_type": "markdown",
   "source": [
    "# Another dataset from kaggle\n",
    "- I found another dataset similar to this one but with 40k record\n",
    "- https://www.kaggle.com/code/chanchal24/stroke-prediction-using-python/input?select=stroke_data.csv\n",
    "### As per documentation\n",
    "- sex: patient's gender (1: male; 0: female)\n",
    "- age: patient's age (in years)\n",
    "- hypertension: patient has ever had hypertension (1) or not (0)\n",
    "- heart_disease: patient has ever had heart_disease(1) or not (0)\n",
    "- ever_married: patient married (1) or not (0)\n",
    "- work_type: patient job type: 0 - Never_worked, 1 - children, 2 - Govt_job, 3 - Self-employed, 4 - Private\n",
    "- Residence_type: patient area: 1 - Urban, 0 - Rural\n",
    "- avg_glucose_level: patient average blood sugar level\n",
    "- bmi Body Mass Index\n",
    "- smoking_status 1 - smokes, 0 - never smoked"
   ],
   "id": "3af7a7560d1d9641"
  },
  {
   "metadata": {
    "ExecuteTime": {
     "end_time": "2025-04-06T13:45:39.011744Z",
     "start_time": "2025-04-06T13:45:37.638719Z"
    }
   },
   "cell_type": "code",
   "source": "! pip install xgboost",
   "id": "600456865b2bb04",
   "outputs": [
    {
     "name": "stdout",
     "output_type": "stream",
     "text": [
      "Defaulting to user installation because normal site-packages is not writeable\n",
      "Requirement already satisfied: xgboost in c:\\users\\ayman\\appdata\\roaming\\python\\python311\\site-packages (3.0.0)\n",
      "Requirement already satisfied: numpy in c:\\programdata\\anaconda3\\lib\\site-packages (from xgboost) (1.26.4)\n",
      "Requirement already satisfied: scipy in c:\\programdata\\anaconda3\\lib\\site-packages (from xgboost) (1.11.4)\n"
     ]
    },
    {
     "name": "stderr",
     "output_type": "stream",
     "text": [
      "DEPRECATION: Loading egg at c:\\programdata\\anaconda3\\lib\\site-packages\\vboxapi-1.0-py3.11.egg is deprecated. pip 25.1 will enforce this behaviour change. A possible replacement is to use pip for package installation. Discussion can be found at https://github.com/pypa/pip/issues/12330\n"
     ]
    }
   ],
   "execution_count": 1
  },
  {
   "metadata": {
    "collapsed": true,
    "ExecuteTime": {
     "end_time": "2025-04-06T13:45:39.145886Z",
     "start_time": "2025-04-06T13:45:39.015822Z"
    }
   },
   "cell_type": "code",
   "source": [
    "import matplotlib.pyplot as plt\n",
    "# Import libraries\n",
    "import pandas as pd\n",
    "import seaborn as sns\n",
    "from sklearn.ensemble import RandomForestClassifier\n",
    "from sklearn.linear_model import LogisticRegression\n",
    "from sklearn.metrics import classification_report, confusion_matrix, ConfusionMatrixDisplay\n",
    "from sklearn.model_selection import train_test_split\n",
    "from xgboost import XGBClassifier"
   ],
   "id": "initial_id",
   "outputs": [],
   "execution_count": 2
  },
  {
   "metadata": {
    "ExecuteTime": {
     "end_time": "2025-04-06T13:45:39.209132Z",
     "start_time": "2025-04-06T13:45:39.187160Z"
    }
   },
   "cell_type": "code",
   "source": [
    "# Load the data\n",
    "df = pd.read_csv(\"stroke_data_kaggle.csv\", sep=\",\")"
   ],
   "id": "24d6c5c39b5a0ae4",
   "outputs": [],
   "execution_count": 3
  },
  {
   "metadata": {
    "ExecuteTime": {
     "end_time": "2025-04-06T13:45:39.220558Z",
     "start_time": "2025-04-06T13:45:39.216398Z"
    }
   },
   "cell_type": "code",
   "source": "print(df.head())",
   "id": "9a4c6f30e34b5ccb",
   "outputs": [
    {
     "name": "stdout",
     "output_type": "stream",
     "text": [
      "   sex   age  hypertension  heart_disease  ever_married  work_type  \\\n",
      "0  1.0  63.0             0              1             1          4   \n",
      "1  1.0  42.0             0              1             1          4   \n",
      "2  0.0  61.0             0              0             1          4   \n",
      "3  1.0  41.0             1              0             1          3   \n",
      "4  1.0  85.0             0              0             1          4   \n",
      "\n",
      "   Residence_type  avg_glucose_level   bmi  smoking_status  stroke  \n",
      "0               1             228.69  36.6               1       1  \n",
      "1               0             105.92  32.5               0       1  \n",
      "2               1             171.23  34.4               1       1  \n",
      "3               0             174.12  24.0               0       1  \n",
      "4               1             186.21  29.0               1       1  \n"
     ]
    }
   ],
   "execution_count": 4
  },
  {
   "metadata": {
    "ExecuteTime": {
     "end_time": "2025-04-06T13:45:39.233129Z",
     "start_time": "2025-04-06T13:45:39.228268Z"
    }
   },
   "cell_type": "code",
   "source": [
    "# check the coulumn name\n",
    "df.columns"
   ],
   "id": "864c9339a80e2d02",
   "outputs": [
    {
     "data": {
      "text/plain": [
       "Index(['sex', 'age', 'hypertension', 'heart_disease', 'ever_married',\n",
       "       'work_type', 'Residence_type', 'avg_glucose_level', 'bmi',\n",
       "       'smoking_status', 'stroke'],\n",
       "      dtype='object')"
      ]
     },
     "execution_count": 5,
     "metadata": {},
     "output_type": "execute_result"
    }
   ],
   "execution_count": 5
  },
  {
   "metadata": {
    "ExecuteTime": {
     "end_time": "2025-04-06T13:45:39.282328Z",
     "start_time": "2025-04-06T13:45:39.262428Z"
    }
   },
   "cell_type": "code",
   "source": [
    "# describe the dataframe\n",
    "df.describe()"
   ],
   "id": "d885febae1485989",
   "outputs": [
    {
     "data": {
      "text/plain": [
       "                sex           age  hypertension  heart_disease  ever_married  \\\n",
       "count  40907.000000  40910.000000  40910.000000   40910.000000  40910.000000   \n",
       "mean       0.555162     51.327255      0.213835       0.127719      0.821340   \n",
       "std        0.496954     21.623969      0.410017       0.333781      0.383072   \n",
       "min        0.000000     -9.000000      0.000000       0.000000      0.000000   \n",
       "25%        0.000000     35.000000      0.000000       0.000000      1.000000   \n",
       "50%        1.000000     52.000000      0.000000       0.000000      1.000000   \n",
       "75%        1.000000     68.000000      0.000000       0.000000      1.000000   \n",
       "max        1.000000    103.000000      1.000000       1.000000      1.000000   \n",
       "\n",
       "          work_type  Residence_type  avg_glucose_level           bmi  \\\n",
       "count  40910.000000    40910.000000       40910.000000  40910.000000   \n",
       "mean       3.461134        0.514886         122.075901     30.406355   \n",
       "std        0.780919        0.499784          57.561531      6.835072   \n",
       "min        0.000000        0.000000          55.120000     11.500000   \n",
       "25%        3.000000        0.000000          78.750000     25.900000   \n",
       "50%        4.000000        1.000000          97.920000     29.400000   \n",
       "75%        4.000000        1.000000         167.590000     34.100000   \n",
       "max        4.000000        1.000000         271.740000     92.000000   \n",
       "\n",
       "       smoking_status        stroke  \n",
       "count    40910.000000  40910.000000  \n",
       "mean         0.488609      0.500122  \n",
       "std          0.499876      0.500006  \n",
       "min          0.000000      0.000000  \n",
       "25%          0.000000      0.000000  \n",
       "50%          0.000000      1.000000  \n",
       "75%          1.000000      1.000000  \n",
       "max          1.000000      1.000000  "
      ],
      "text/html": [
       "<div>\n",
       "<style scoped>\n",
       "    .dataframe tbody tr th:only-of-type {\n",
       "        vertical-align: middle;\n",
       "    }\n",
       "\n",
       "    .dataframe tbody tr th {\n",
       "        vertical-align: top;\n",
       "    }\n",
       "\n",
       "    .dataframe thead th {\n",
       "        text-align: right;\n",
       "    }\n",
       "</style>\n",
       "<table border=\"1\" class=\"dataframe\">\n",
       "  <thead>\n",
       "    <tr style=\"text-align: right;\">\n",
       "      <th></th>\n",
       "      <th>sex</th>\n",
       "      <th>age</th>\n",
       "      <th>hypertension</th>\n",
       "      <th>heart_disease</th>\n",
       "      <th>ever_married</th>\n",
       "      <th>work_type</th>\n",
       "      <th>Residence_type</th>\n",
       "      <th>avg_glucose_level</th>\n",
       "      <th>bmi</th>\n",
       "      <th>smoking_status</th>\n",
       "      <th>stroke</th>\n",
       "    </tr>\n",
       "  </thead>\n",
       "  <tbody>\n",
       "    <tr>\n",
       "      <th>count</th>\n",
       "      <td>40907.000000</td>\n",
       "      <td>40910.000000</td>\n",
       "      <td>40910.000000</td>\n",
       "      <td>40910.000000</td>\n",
       "      <td>40910.000000</td>\n",
       "      <td>40910.000000</td>\n",
       "      <td>40910.000000</td>\n",
       "      <td>40910.000000</td>\n",
       "      <td>40910.000000</td>\n",
       "      <td>40910.000000</td>\n",
       "      <td>40910.000000</td>\n",
       "    </tr>\n",
       "    <tr>\n",
       "      <th>mean</th>\n",
       "      <td>0.555162</td>\n",
       "      <td>51.327255</td>\n",
       "      <td>0.213835</td>\n",
       "      <td>0.127719</td>\n",
       "      <td>0.821340</td>\n",
       "      <td>3.461134</td>\n",
       "      <td>0.514886</td>\n",
       "      <td>122.075901</td>\n",
       "      <td>30.406355</td>\n",
       "      <td>0.488609</td>\n",
       "      <td>0.500122</td>\n",
       "    </tr>\n",
       "    <tr>\n",
       "      <th>std</th>\n",
       "      <td>0.496954</td>\n",
       "      <td>21.623969</td>\n",
       "      <td>0.410017</td>\n",
       "      <td>0.333781</td>\n",
       "      <td>0.383072</td>\n",
       "      <td>0.780919</td>\n",
       "      <td>0.499784</td>\n",
       "      <td>57.561531</td>\n",
       "      <td>6.835072</td>\n",
       "      <td>0.499876</td>\n",
       "      <td>0.500006</td>\n",
       "    </tr>\n",
       "    <tr>\n",
       "      <th>min</th>\n",
       "      <td>0.000000</td>\n",
       "      <td>-9.000000</td>\n",
       "      <td>0.000000</td>\n",
       "      <td>0.000000</td>\n",
       "      <td>0.000000</td>\n",
       "      <td>0.000000</td>\n",
       "      <td>0.000000</td>\n",
       "      <td>55.120000</td>\n",
       "      <td>11.500000</td>\n",
       "      <td>0.000000</td>\n",
       "      <td>0.000000</td>\n",
       "    </tr>\n",
       "    <tr>\n",
       "      <th>25%</th>\n",
       "      <td>0.000000</td>\n",
       "      <td>35.000000</td>\n",
       "      <td>0.000000</td>\n",
       "      <td>0.000000</td>\n",
       "      <td>1.000000</td>\n",
       "      <td>3.000000</td>\n",
       "      <td>0.000000</td>\n",
       "      <td>78.750000</td>\n",
       "      <td>25.900000</td>\n",
       "      <td>0.000000</td>\n",
       "      <td>0.000000</td>\n",
       "    </tr>\n",
       "    <tr>\n",
       "      <th>50%</th>\n",
       "      <td>1.000000</td>\n",
       "      <td>52.000000</td>\n",
       "      <td>0.000000</td>\n",
       "      <td>0.000000</td>\n",
       "      <td>1.000000</td>\n",
       "      <td>4.000000</td>\n",
       "      <td>1.000000</td>\n",
       "      <td>97.920000</td>\n",
       "      <td>29.400000</td>\n",
       "      <td>0.000000</td>\n",
       "      <td>1.000000</td>\n",
       "    </tr>\n",
       "    <tr>\n",
       "      <th>75%</th>\n",
       "      <td>1.000000</td>\n",
       "      <td>68.000000</td>\n",
       "      <td>0.000000</td>\n",
       "      <td>0.000000</td>\n",
       "      <td>1.000000</td>\n",
       "      <td>4.000000</td>\n",
       "      <td>1.000000</td>\n",
       "      <td>167.590000</td>\n",
       "      <td>34.100000</td>\n",
       "      <td>1.000000</td>\n",
       "      <td>1.000000</td>\n",
       "    </tr>\n",
       "    <tr>\n",
       "      <th>max</th>\n",
       "      <td>1.000000</td>\n",
       "      <td>103.000000</td>\n",
       "      <td>1.000000</td>\n",
       "      <td>1.000000</td>\n",
       "      <td>1.000000</td>\n",
       "      <td>4.000000</td>\n",
       "      <td>1.000000</td>\n",
       "      <td>271.740000</td>\n",
       "      <td>92.000000</td>\n",
       "      <td>1.000000</td>\n",
       "      <td>1.000000</td>\n",
       "    </tr>\n",
       "  </tbody>\n",
       "</table>\n",
       "</div>"
      ]
     },
     "execution_count": 6,
     "metadata": {},
     "output_type": "execute_result"
    }
   ],
   "execution_count": 6
  },
  {
   "metadata": {
    "ExecuteTime": {
     "end_time": "2025-04-06T13:45:39.328385Z",
     "start_time": "2025-04-06T13:45:39.309368Z"
    }
   },
   "cell_type": "code",
   "source": [
    "# describe the dataframe T\n",
    "df.describe().T"
   ],
   "id": "aae038c52c751e24",
   "outputs": [
    {
     "data": {
      "text/plain": [
       "                     count        mean        std    min    25%    50%  \\\n",
       "sex                40907.0    0.555162   0.496954   0.00   0.00   1.00   \n",
       "age                40910.0   51.327255  21.623969  -9.00  35.00  52.00   \n",
       "hypertension       40910.0    0.213835   0.410017   0.00   0.00   0.00   \n",
       "heart_disease      40910.0    0.127719   0.333781   0.00   0.00   0.00   \n",
       "ever_married       40910.0    0.821340   0.383072   0.00   1.00   1.00   \n",
       "work_type          40910.0    3.461134   0.780919   0.00   3.00   4.00   \n",
       "Residence_type     40910.0    0.514886   0.499784   0.00   0.00   1.00   \n",
       "avg_glucose_level  40910.0  122.075901  57.561531  55.12  78.75  97.92   \n",
       "bmi                40910.0   30.406355   6.835072  11.50  25.90  29.40   \n",
       "smoking_status     40910.0    0.488609   0.499876   0.00   0.00   0.00   \n",
       "stroke             40910.0    0.500122   0.500006   0.00   0.00   1.00   \n",
       "\n",
       "                      75%     max  \n",
       "sex                  1.00    1.00  \n",
       "age                 68.00  103.00  \n",
       "hypertension         0.00    1.00  \n",
       "heart_disease        0.00    1.00  \n",
       "ever_married         1.00    1.00  \n",
       "work_type            4.00    4.00  \n",
       "Residence_type       1.00    1.00  \n",
       "avg_glucose_level  167.59  271.74  \n",
       "bmi                 34.10   92.00  \n",
       "smoking_status       1.00    1.00  \n",
       "stroke               1.00    1.00  "
      ],
      "text/html": [
       "<div>\n",
       "<style scoped>\n",
       "    .dataframe tbody tr th:only-of-type {\n",
       "        vertical-align: middle;\n",
       "    }\n",
       "\n",
       "    .dataframe tbody tr th {\n",
       "        vertical-align: top;\n",
       "    }\n",
       "\n",
       "    .dataframe thead th {\n",
       "        text-align: right;\n",
       "    }\n",
       "</style>\n",
       "<table border=\"1\" class=\"dataframe\">\n",
       "  <thead>\n",
       "    <tr style=\"text-align: right;\">\n",
       "      <th></th>\n",
       "      <th>count</th>\n",
       "      <th>mean</th>\n",
       "      <th>std</th>\n",
       "      <th>min</th>\n",
       "      <th>25%</th>\n",
       "      <th>50%</th>\n",
       "      <th>75%</th>\n",
       "      <th>max</th>\n",
       "    </tr>\n",
       "  </thead>\n",
       "  <tbody>\n",
       "    <tr>\n",
       "      <th>sex</th>\n",
       "      <td>40907.0</td>\n",
       "      <td>0.555162</td>\n",
       "      <td>0.496954</td>\n",
       "      <td>0.00</td>\n",
       "      <td>0.00</td>\n",
       "      <td>1.00</td>\n",
       "      <td>1.00</td>\n",
       "      <td>1.00</td>\n",
       "    </tr>\n",
       "    <tr>\n",
       "      <th>age</th>\n",
       "      <td>40910.0</td>\n",
       "      <td>51.327255</td>\n",
       "      <td>21.623969</td>\n",
       "      <td>-9.00</td>\n",
       "      <td>35.00</td>\n",
       "      <td>52.00</td>\n",
       "      <td>68.00</td>\n",
       "      <td>103.00</td>\n",
       "    </tr>\n",
       "    <tr>\n",
       "      <th>hypertension</th>\n",
       "      <td>40910.0</td>\n",
       "      <td>0.213835</td>\n",
       "      <td>0.410017</td>\n",
       "      <td>0.00</td>\n",
       "      <td>0.00</td>\n",
       "      <td>0.00</td>\n",
       "      <td>0.00</td>\n",
       "      <td>1.00</td>\n",
       "    </tr>\n",
       "    <tr>\n",
       "      <th>heart_disease</th>\n",
       "      <td>40910.0</td>\n",
       "      <td>0.127719</td>\n",
       "      <td>0.333781</td>\n",
       "      <td>0.00</td>\n",
       "      <td>0.00</td>\n",
       "      <td>0.00</td>\n",
       "      <td>0.00</td>\n",
       "      <td>1.00</td>\n",
       "    </tr>\n",
       "    <tr>\n",
       "      <th>ever_married</th>\n",
       "      <td>40910.0</td>\n",
       "      <td>0.821340</td>\n",
       "      <td>0.383072</td>\n",
       "      <td>0.00</td>\n",
       "      <td>1.00</td>\n",
       "      <td>1.00</td>\n",
       "      <td>1.00</td>\n",
       "      <td>1.00</td>\n",
       "    </tr>\n",
       "    <tr>\n",
       "      <th>work_type</th>\n",
       "      <td>40910.0</td>\n",
       "      <td>3.461134</td>\n",
       "      <td>0.780919</td>\n",
       "      <td>0.00</td>\n",
       "      <td>3.00</td>\n",
       "      <td>4.00</td>\n",
       "      <td>4.00</td>\n",
       "      <td>4.00</td>\n",
       "    </tr>\n",
       "    <tr>\n",
       "      <th>Residence_type</th>\n",
       "      <td>40910.0</td>\n",
       "      <td>0.514886</td>\n",
       "      <td>0.499784</td>\n",
       "      <td>0.00</td>\n",
       "      <td>0.00</td>\n",
       "      <td>1.00</td>\n",
       "      <td>1.00</td>\n",
       "      <td>1.00</td>\n",
       "    </tr>\n",
       "    <tr>\n",
       "      <th>avg_glucose_level</th>\n",
       "      <td>40910.0</td>\n",
       "      <td>122.075901</td>\n",
       "      <td>57.561531</td>\n",
       "      <td>55.12</td>\n",
       "      <td>78.75</td>\n",
       "      <td>97.92</td>\n",
       "      <td>167.59</td>\n",
       "      <td>271.74</td>\n",
       "    </tr>\n",
       "    <tr>\n",
       "      <th>bmi</th>\n",
       "      <td>40910.0</td>\n",
       "      <td>30.406355</td>\n",
       "      <td>6.835072</td>\n",
       "      <td>11.50</td>\n",
       "      <td>25.90</td>\n",
       "      <td>29.40</td>\n",
       "      <td>34.10</td>\n",
       "      <td>92.00</td>\n",
       "    </tr>\n",
       "    <tr>\n",
       "      <th>smoking_status</th>\n",
       "      <td>40910.0</td>\n",
       "      <td>0.488609</td>\n",
       "      <td>0.499876</td>\n",
       "      <td>0.00</td>\n",
       "      <td>0.00</td>\n",
       "      <td>0.00</td>\n",
       "      <td>1.00</td>\n",
       "      <td>1.00</td>\n",
       "    </tr>\n",
       "    <tr>\n",
       "      <th>stroke</th>\n",
       "      <td>40910.0</td>\n",
       "      <td>0.500122</td>\n",
       "      <td>0.500006</td>\n",
       "      <td>0.00</td>\n",
       "      <td>0.00</td>\n",
       "      <td>1.00</td>\n",
       "      <td>1.00</td>\n",
       "      <td>1.00</td>\n",
       "    </tr>\n",
       "  </tbody>\n",
       "</table>\n",
       "</div>"
      ]
     },
     "execution_count": 7,
     "metadata": {},
     "output_type": "execute_result"
    }
   ],
   "execution_count": 7
  },
  {
   "metadata": {
    "ExecuteTime": {
     "end_time": "2025-04-06T13:45:39.362358Z",
     "start_time": "2025-04-06T13:45:39.356105Z"
    }
   },
   "cell_type": "code",
   "source": [
    "# check data types\n",
    "df.info()"
   ],
   "id": "44cb9c4de827e21e",
   "outputs": [
    {
     "name": "stdout",
     "output_type": "stream",
     "text": [
      "<class 'pandas.core.frame.DataFrame'>\n",
      "RangeIndex: 40910 entries, 0 to 40909\n",
      "Data columns (total 11 columns):\n",
      " #   Column             Non-Null Count  Dtype  \n",
      "---  ------             --------------  -----  \n",
      " 0   sex                40907 non-null  float64\n",
      " 1   age                40910 non-null  float64\n",
      " 2   hypertension       40910 non-null  int64  \n",
      " 3   heart_disease      40910 non-null  int64  \n",
      " 4   ever_married       40910 non-null  int64  \n",
      " 5   work_type          40910 non-null  int64  \n",
      " 6   Residence_type     40910 non-null  int64  \n",
      " 7   avg_glucose_level  40910 non-null  float64\n",
      " 8   bmi                40910 non-null  float64\n",
      " 9   smoking_status     40910 non-null  int64  \n",
      " 10  stroke             40910 non-null  int64  \n",
      "dtypes: float64(4), int64(7)\n",
      "memory usage: 3.4 MB\n"
     ]
    }
   ],
   "execution_count": 8
  },
  {
   "metadata": {
    "ExecuteTime": {
     "end_time": "2025-04-06T13:45:39.452903Z",
     "start_time": "2025-04-06T13:45:39.448349Z"
    }
   },
   "cell_type": "code",
   "source": [
    "# Check missing values\n",
    "print(df.isnull().sum())"
   ],
   "id": "d7608d400c480c31",
   "outputs": [
    {
     "name": "stdout",
     "output_type": "stream",
     "text": [
      "sex                  3\n",
      "age                  0\n",
      "hypertension         0\n",
      "heart_disease        0\n",
      "ever_married         0\n",
      "work_type            0\n",
      "Residence_type       0\n",
      "avg_glucose_level    0\n",
      "bmi                  0\n",
      "smoking_status       0\n",
      "stroke               0\n",
      "dtype: int64\n"
     ]
    }
   ],
   "execution_count": 9
  },
  {
   "metadata": {},
   "cell_type": "markdown",
   "source": "sex have 3 null values",
   "id": "91775528fbf55f9f"
  },
  {
   "metadata": {
    "ExecuteTime": {
     "end_time": "2025-04-06T13:45:39.526929Z",
     "start_time": "2025-04-06T13:45:39.522749Z"
    }
   },
   "cell_type": "code",
   "source": [
    "# fill the null values with 0 female\n",
    "df[\"sex\"] = df[\"sex\"].fillna(0.0)"
   ],
   "id": "455a8d8066b80b67",
   "outputs": [],
   "execution_count": 10
  },
  {
   "metadata": {
    "ExecuteTime": {
     "end_time": "2025-04-06T13:45:39.607610Z",
     "start_time": "2025-04-06T13:45:39.602351Z"
    }
   },
   "cell_type": "code",
   "source": [
    "# now lets explore the data feature by feature to understand\n",
    "df.sex.value_counts()"
   ],
   "id": "c9d4685cba2d0f6e",
   "outputs": [
    {
     "data": {
      "text/plain": [
       "1.0    22710\n",
       "0.0    18200\n",
       "Name: sex, dtype: int64"
      ]
     },
     "execution_count": 11,
     "metadata": {},
     "output_type": "execute_result"
    }
   ],
   "execution_count": 11
  },
  {
   "metadata": {
    "ExecuteTime": {
     "end_time": "2025-04-06T13:45:39.684383Z",
     "start_time": "2025-04-06T13:45:39.681320Z"
    }
   },
   "cell_type": "code",
   "source": "df[\"total_count\"] = 1",
   "id": "9c26392af57b0583",
   "outputs": [],
   "execution_count": 12
  },
  {
   "metadata": {
    "ExecuteTime": {
     "end_time": "2025-04-06T13:45:39.721050Z",
     "start_time": "2025-04-06T13:45:39.712174Z"
    }
   },
   "cell_type": "code",
   "source": [
    "Male_stroke_df = df[[\"sex\", \"stroke\", \"total_count\"]].loc[df[\"sex\"] == 1.0].groupby(by=[\"sex\", \"stroke\"]).count()\n",
    "Male_stroke_df"
   ],
   "id": "8e287fc4ce42fd88",
   "outputs": [
    {
     "data": {
      "text/plain": [
       "            total_count\n",
       "sex stroke             \n",
       "1.0 0             12480\n",
       "    1             10230"
      ],
      "text/html": [
       "<div>\n",
       "<style scoped>\n",
       "    .dataframe tbody tr th:only-of-type {\n",
       "        vertical-align: middle;\n",
       "    }\n",
       "\n",
       "    .dataframe tbody tr th {\n",
       "        vertical-align: top;\n",
       "    }\n",
       "\n",
       "    .dataframe thead th {\n",
       "        text-align: right;\n",
       "    }\n",
       "</style>\n",
       "<table border=\"1\" class=\"dataframe\">\n",
       "  <thead>\n",
       "    <tr style=\"text-align: right;\">\n",
       "      <th></th>\n",
       "      <th></th>\n",
       "      <th>total_count</th>\n",
       "    </tr>\n",
       "    <tr>\n",
       "      <th>sex</th>\n",
       "      <th>stroke</th>\n",
       "      <th></th>\n",
       "    </tr>\n",
       "  </thead>\n",
       "  <tbody>\n",
       "    <tr>\n",
       "      <th rowspan=\"2\" valign=\"top\">1.0</th>\n",
       "      <th>0</th>\n",
       "      <td>12480</td>\n",
       "    </tr>\n",
       "    <tr>\n",
       "      <th>1</th>\n",
       "      <td>10230</td>\n",
       "    </tr>\n",
       "  </tbody>\n",
       "</table>\n",
       "</div>"
      ]
     },
     "execution_count": 13,
     "metadata": {},
     "output_type": "execute_result"
    }
   ],
   "execution_count": 13
  },
  {
   "metadata": {
    "ExecuteTime": {
     "end_time": "2025-04-06T13:45:39.783295Z",
     "start_time": "2025-04-06T13:45:39.776370Z"
    }
   },
   "cell_type": "code",
   "source": [
    "Female_stroke_df = df[[\"sex\", \"stroke\", \"total_count\"]].loc[df[\"sex\"] == 0.0].groupby(by=[\"sex\", \"stroke\"]).count()\n",
    "Female_stroke_df"
   ],
   "id": "1f0ca27e03a66f5",
   "outputs": [
    {
     "data": {
      "text/plain": [
       "            total_count\n",
       "sex stroke             \n",
       "0.0 0              7970\n",
       "    1             10230"
      ],
      "text/html": [
       "<div>\n",
       "<style scoped>\n",
       "    .dataframe tbody tr th:only-of-type {\n",
       "        vertical-align: middle;\n",
       "    }\n",
       "\n",
       "    .dataframe tbody tr th {\n",
       "        vertical-align: top;\n",
       "    }\n",
       "\n",
       "    .dataframe thead th {\n",
       "        text-align: right;\n",
       "    }\n",
       "</style>\n",
       "<table border=\"1\" class=\"dataframe\">\n",
       "  <thead>\n",
       "    <tr style=\"text-align: right;\">\n",
       "      <th></th>\n",
       "      <th></th>\n",
       "      <th>total_count</th>\n",
       "    </tr>\n",
       "    <tr>\n",
       "      <th>sex</th>\n",
       "      <th>stroke</th>\n",
       "      <th></th>\n",
       "    </tr>\n",
       "  </thead>\n",
       "  <tbody>\n",
       "    <tr>\n",
       "      <th rowspan=\"2\" valign=\"top\">0.0</th>\n",
       "      <th>0</th>\n",
       "      <td>7970</td>\n",
       "    </tr>\n",
       "    <tr>\n",
       "      <th>1</th>\n",
       "      <td>10230</td>\n",
       "    </tr>\n",
       "  </tbody>\n",
       "</table>\n",
       "</div>"
      ]
     },
     "execution_count": 14,
     "metadata": {},
     "output_type": "execute_result"
    }
   ],
   "execution_count": 14
  },
  {
   "metadata": {
    "ExecuteTime": {
     "end_time": "2025-04-06T13:45:39.850487Z",
     "start_time": "2025-04-06T13:45:39.847224Z"
    }
   },
   "cell_type": "code",
   "source": [
    "# show possible values in gender\n",
    "df[\"sex\"].unique()"
   ],
   "id": "69c730cf21f5b828",
   "outputs": [
    {
     "data": {
      "text/plain": [
       "array([1., 0.])"
      ]
     },
     "execution_count": 15,
     "metadata": {},
     "output_type": "execute_result"
    }
   ],
   "execution_count": 15
  },
  {
   "metadata": {
    "ExecuteTime": {
     "end_time": "2025-04-06T13:45:39.944120Z",
     "start_time": "2025-04-06T13:45:39.940006Z"
    }
   },
   "cell_type": "code",
   "source": [
    "# show possible values in ever_married\n",
    "df[\"ever_married\"].unique()"
   ],
   "id": "12b92f2a577df451",
   "outputs": [
    {
     "data": {
      "text/plain": [
       "array([1, 0], dtype=int64)"
      ]
     },
     "execution_count": 16,
     "metadata": {},
     "output_type": "execute_result"
    }
   ],
   "execution_count": 16
  },
  {
   "metadata": {
    "ExecuteTime": {
     "end_time": "2025-04-06T13:45:40.039442Z",
     "start_time": "2025-04-06T13:45:40.034948Z"
    }
   },
   "cell_type": "code",
   "source": [
    "# show possible values in work_type\n",
    "df[\"work_type\"].unique()"
   ],
   "id": "9c82936a445f17d5",
   "outputs": [
    {
     "data": {
      "text/plain": [
       "array([4, 3, 2, 1, 0], dtype=int64)"
      ]
     },
     "execution_count": 17,
     "metadata": {},
     "output_type": "execute_result"
    }
   ],
   "execution_count": 17
  },
  {
   "metadata": {
    "ExecuteTime": {
     "end_time": "2025-04-06T13:45:40.100702Z",
     "start_time": "2025-04-06T13:45:40.096759Z"
    }
   },
   "cell_type": "code",
   "source": [
    "# show possible values in Residence_type\n",
    "df[\"Residence_type\"].unique()"
   ],
   "id": "5eca8e7d55e458e6",
   "outputs": [
    {
     "data": {
      "text/plain": [
       "array([1, 0], dtype=int64)"
      ]
     },
     "execution_count": 18,
     "metadata": {},
     "output_type": "execute_result"
    }
   ],
   "execution_count": 18
  },
  {
   "metadata": {
    "ExecuteTime": {
     "end_time": "2025-04-06T13:45:40.130068Z",
     "start_time": "2025-04-06T13:45:40.125057Z"
    }
   },
   "cell_type": "code",
   "source": [
    "# show possible values in  smoking_status\n",
    "df[\"smoking_status\"].unique()"
   ],
   "id": "896ba462a8e31841",
   "outputs": [
    {
     "data": {
      "text/plain": [
       "array([1, 0], dtype=int64)"
      ]
     },
     "execution_count": 19,
     "metadata": {},
     "output_type": "execute_result"
    }
   ],
   "execution_count": 19
  },
  {
   "metadata": {
    "ExecuteTime": {
     "end_time": "2025-04-06T13:45:40.158687Z",
     "start_time": "2025-04-06T13:45:40.154533Z"
    }
   },
   "cell_type": "code",
   "source": [
    "# show possible values in  heart_disease\n",
    "df[\"heart_disease\"].unique()"
   ],
   "id": "5677218c66191d3c",
   "outputs": [
    {
     "data": {
      "text/plain": [
       "array([1, 0], dtype=int64)"
      ]
     },
     "execution_count": 20,
     "metadata": {},
     "output_type": "execute_result"
    }
   ],
   "execution_count": 20
  },
  {
   "metadata": {
    "ExecuteTime": {
     "end_time": "2025-04-06T13:45:40.184359Z",
     "start_time": "2025-04-06T13:45:40.180360Z"
    }
   },
   "cell_type": "code",
   "source": [
    "# show possible values in  hypertension\n",
    "df[\"hypertension\"].unique()"
   ],
   "id": "d7f9ff04c9758157",
   "outputs": [
    {
     "data": {
      "text/plain": [
       "array([0, 1], dtype=int64)"
      ]
     },
     "execution_count": 21,
     "metadata": {},
     "output_type": "execute_result"
    }
   ],
   "execution_count": 21
  },
  {
   "metadata": {
    "ExecuteTime": {
     "end_time": "2025-04-06T13:45:40.211535Z",
     "start_time": "2025-04-06T13:45:40.209061Z"
    }
   },
   "cell_type": "code",
   "source": "# Exploratory Data Analysis (EDA)",
   "id": "a9ce9d1921f3695f",
   "outputs": [],
   "execution_count": 22
  },
  {
   "metadata": {
    "ExecuteTime": {
     "end_time": "2025-04-06T13:45:40.308493Z",
     "start_time": "2025-04-06T13:45:40.225979Z"
    }
   },
   "cell_type": "code",
   "source": [
    "# Stroke distribution\n",
    "plt.figure(figsize=(6, 4))\n",
    "sns.countplot(x='stroke', data=df)\n",
    "plt.title('Stroke Distribution')\n",
    "plt.show()"
   ],
   "id": "dec0a2fd0a413ad6",
   "outputs": [
    {
     "data": {
      "text/plain": [
       "<Figure size 600x400 with 1 Axes>"
      ],
      "image/png": "[encoded data removed]"
     },
     "metadata": {},
     "output_type": "display_data"
    }
   ],
   "execution_count": 23
  },
  {
   "metadata": {
    "ExecuteTime": {
     "end_time": "2025-04-06T13:45:40.397824Z",
     "start_time": "2025-04-06T13:45:40.317009Z"
    }
   },
   "cell_type": "code",
   "source": [
    "# Gender vs Stroke\n",
    "df['stroke'] = df['stroke'].astype(str)\n",
    "plt.figure(figsize=(6, 4))\n",
    "sns.countplot(x='sex', hue='stroke', data=df)\n",
    "plt.title('sex vs Stroke')\n",
    "plt.show()\n"
   ],
   "id": "b6c84a85648c0b6b",
   "outputs": [
    {
     "data": {
      "text/plain": [
       "<Figure size 600x400 with 1 Axes>"
      ],
      "image/png": "[encoded data removed]"
     },
     "metadata": {},
     "output_type": "display_data"
    }
   ],
   "execution_count": 24
  },
  {
   "metadata": {
    "ExecuteTime": {
     "end_time": "2025-04-06T13:45:40.575431Z",
     "start_time": "2025-04-06T13:45:40.405247Z"
    }
   },
   "cell_type": "code",
   "source": [
    "# Age distribution\n",
    "plt.figure(figsize=(8, 6))\n",
    "sns.histplot(df['age'], kde=True, bins=30)\n",
    "plt.title('Age Distribution')\n",
    "plt.show()\n"
   ],
   "id": "76dc51d62ac0f6d2",
   "outputs": [
    {
     "data": {
      "text/plain": [
       "<Figure size 800x600 with 1 Axes>"
      ],
      "image/png": "[encoded data removed]"
     },
     "metadata": {},
     "output_type": "display_data"
    }
   ],
   "execution_count": 25
  },
  {
   "metadata": {
    "ExecuteTime": {
     "end_time": "2025-04-06T13:45:40.650034Z",
     "start_time": "2025-04-06T13:45:40.583323Z"
    }
   },
   "cell_type": "code",
   "source": [
    "# Age vs Stroke\n",
    "plt.figure(figsize=(8, 6))\n",
    "sns.boxplot(x='stroke', y='age', data=df)\n",
    "plt.title('Age vs Stroke')\n",
    "plt.show()\n"
   ],
   "id": "b02c210dc21eb05d",
   "outputs": [
    {
     "data": {
      "text/plain": [
       "<Figure size 800x600 with 1 Axes>"
      ],
      "image/png": "[encoded data removed]"
     },
     "metadata": {},
     "output_type": "display_data"
    }
   ],
   "execution_count": 26
  },
  {
   "metadata": {},
   "cell_type": "markdown",
   "source": "here Stroke risk show up with age between 35 and 65.",
   "id": "833fdd56e230be1f"
  },
  {
   "metadata": {
    "ExecuteTime": {
     "end_time": "2025-04-06T13:45:40.730133Z",
     "start_time": "2025-04-06T13:45:40.657716Z"
    }
   },
   "cell_type": "code",
   "source": [
    "# Hypertension vs Stroke\n",
    "# Contrary to typical expectations, stroke risk appears slightly higher among patients without hypertension in this dataset.\n",
    "# possibly due to dataset sampling bias or missing detailed health records.\n",
    "df['stroke'] = df['stroke'].astype(str)\n",
    "plt.figure(figsize=(6, 4))\n",
    "sns.countplot(x='hypertension', hue='stroke', data=df)\n",
    "plt.title('Hypertension vs Stroke')\n",
    "plt.show()"
   ],
   "id": "45ffe43d05cf7465",
   "outputs": [
    {
     "data": {
      "text/plain": [
       "<Figure size 600x400 with 1 Axes>"
      ],
      "image/png": "[encoded data removed]"
     },
     "metadata": {},
     "output_type": "display_data"
    }
   ],
   "execution_count": 27
  },
  {
   "metadata": {},
   "cell_type": "markdown",
   "source": [
    "Stroke cases appear slightly more common among patients without diagnosed hypertension, which is different from the original dataset's pattern.\n",
    "This could indicate sample bias, younger stroke cases, or incomplete health history documentation."
   ],
   "id": "880b4a86eb00b6c7"
  },
  {
   "metadata": {
    "ExecuteTime": {
     "end_time": "2025-04-06T13:45:40.817575Z",
     "start_time": "2025-04-06T13:45:40.737568Z"
    }
   },
   "cell_type": "code",
   "source": [
    "# Heart Disease vs Stroke\n",
    "\n",
    "# The following plot shows the relationship between heart disease and stroke occurrence.\n",
    "# Surprisingly, in this dataset, the stroke rate appears slightly higher among patients without heart disease compared to those with heart disease.\n",
    "# possibly due to dataset sampling bias or missing detailed health records.\n",
    "\n",
    "df['stroke'] = df['stroke'].astype(str)\n",
    "plt.figure(figsize=(6, 4))\n",
    "sns.countplot(x='heart_disease', hue='stroke', data=df)\n",
    "plt.title('Heart Disease vs Stroke')\n",
    "plt.show()"
   ],
   "id": "5c4e1d33bea40b21",
   "outputs": [
    {
     "data": {
      "text/plain": [
       "<Figure size 600x400 with 1 Axes>"
      ],
      "image/png": "[encoded data removed]"
     },
     "metadata": {},
     "output_type": "display_data"
    }
   ],
   "execution_count": 28
  },
  {
   "metadata": {},
   "cell_type": "markdown",
   "source": [
    "stroke cases appear slightly more common among patients without diagnosed heart disease, which is different from the original dataset's pattern.\n",
    "This could indicate sample bias, younger stroke cases, or incomplete health history documentation."
   ],
   "id": "e3018addfc2bacf4"
  },
  {
   "metadata": {
    "ExecuteTime": {
     "end_time": "2025-04-06T13:45:40.907323Z",
     "start_time": "2025-04-06T13:45:40.832554Z"
    }
   },
   "cell_type": "code",
   "source": [
    "# Smoking Status Vs Stroke\n",
    "df['stroke'] = df['stroke'].astype(str)\n",
    "\n",
    "plt.figure(figsize=(10, 6))  # Define figure size\n",
    "sns.countplot(x='smoking_status', hue='stroke', data=df)  # Create the countplot\n",
    "\n",
    "plt.title('Smoking Status vs Stroke')  # Add title\n",
    "plt.xlabel('Smoking Status')  # Add label to x-axis\n",
    "plt.ylabel('Count')  # Add label to y-axis\n",
    "plt.legend(title='Stroke')  # Set legend title to ensure readability\n",
    "\n",
    "plt.show()"
   ],
   "id": "4a232dcf20f2431f",
   "outputs": [
    {
     "data": {
      "text/plain": [
       "<Figure size 1000x600 with 1 Axes>"
      ],
      "image/png": "[encoded data removed]"
     },
     "metadata": {},
     "output_type": "display_data"
    }
   ],
   "execution_count": 29
  },
  {
   "metadata": {},
   "cell_type": "markdown",
   "source": "Former smokers and current smokers have a slightly higher stroke risk",
   "id": "8322f0f13fcfbfc3"
  },
  {
   "metadata": {
    "ExecuteTime": {
     "end_time": "2025-04-06T13:45:41.073488Z",
     "start_time": "2025-04-06T13:45:40.914404Z"
    }
   },
   "cell_type": "code",
   "source": [
    "# Correlation heatmap\n",
    "plt.figure(figsize=(10, 8))\n",
    "sns.heatmap(df.corr(), annot=True, cmap='coolwarm')\n",
    "plt.title('Feature Correlation')\n",
    "plt.show()"
   ],
   "id": "e8e4c6bd00c90aee",
   "outputs": [
    {
     "name": "stderr",
     "output_type": "stream",
     "text": [
      "C:\\ProgramData\\anaconda3\\Lib\\site-packages\\seaborn\\matrix.py:260: FutureWarning: Format strings passed to MaskedConstant are ignored, but in future may error or produce different behavior\n",
      "  annotation = (\"{:\" + self.fmt + \"}\").format(val)\n"
     ]
    },
    {
     "data": {
      "text/plain": [
       "<Figure size 1000x800 with 2 Axes>"
      ],
      "image/png": "[encoded data removed]"
     },
     "metadata": {},
     "output_type": "display_data"
    }
   ],
   "execution_count": 30
  },
  {
   "metadata": {},
   "cell_type": "markdown",
   "source": "# Encode categorical variables",
   "id": "472f2ab9a04f6dd6"
  },
  {
   "metadata": {
    "ExecuteTime": {
     "end_time": "2025-04-06T13:45:41.088231Z",
     "start_time": "2025-04-06T13:45:41.081901Z"
    }
   },
   "cell_type": "code",
   "source": "df = pd.concat([df, pd.get_dummies(df.sex, prefix='sex')], axis=1).drop(columns=\"sex\")",
   "id": "a4abb17a4e454b9e",
   "outputs": [],
   "execution_count": 31
  },
  {
   "metadata": {
    "ExecuteTime": {
     "end_time": "2025-04-06T13:45:41.105145Z",
     "start_time": "2025-04-06T13:45:41.099407Z"
    }
   },
   "cell_type": "code",
   "source": "df = pd.concat([df, pd.get_dummies(df.ever_married, prefix='ever_married')], axis=1).drop(columns=\"ever_married\")",
   "id": "f288bfc0d0c2f783",
   "outputs": [],
   "execution_count": 32
  },
  {
   "metadata": {
    "ExecuteTime": {
     "end_time": "2025-04-06T13:45:41.117970Z",
     "start_time": "2025-04-06T13:45:41.112673Z"
    }
   },
   "cell_type": "code",
   "source": "df = pd.concat([df, pd.get_dummies(df.smoking_status, prefix='smoking_status')], axis=1).drop(columns=\"smoking_status\")",
   "id": "979d6644b6830aa3",
   "outputs": [],
   "execution_count": 33
  },
  {
   "metadata": {
    "ExecuteTime": {
     "end_time": "2025-04-06T13:45:41.129979Z",
     "start_time": "2025-04-06T13:45:41.124651Z"
    }
   },
   "cell_type": "code",
   "source": "df = pd.concat([df, pd.get_dummies(df.Residence_type, prefix='Residence_type')], axis=1).drop(columns=\"Residence_type\")",
   "id": "79ee0f47cc776c31",
   "outputs": [],
   "execution_count": 34
  },
  {
   "metadata": {
    "ExecuteTime": {
     "end_time": "2025-04-06T13:45:41.143605Z",
     "start_time": "2025-04-06T13:45:41.137388Z"
    }
   },
   "cell_type": "code",
   "source": "df.head(3)",
   "id": "57ba01bfb347b8c3",
   "outputs": [
    {
     "data": {
      "text/plain": [
       "    age  hypertension  heart_disease  work_type  avg_glucose_level   bmi  \\\n",
       "0  63.0             0              1          4             228.69  36.6   \n",
       "1  42.0             0              1          4             105.92  32.5   \n",
       "2  61.0             0              0          4             171.23  34.4   \n",
       "\n",
       "  stroke  total_count  sex_0.0  sex_1.0  ever_married_0  ever_married_1  \\\n",
       "0      1            1        0        1               0               1   \n",
       "1      1            1        0        1               0               1   \n",
       "2      1            1        1        0               0               1   \n",
       "\n",
       "   smoking_status_0  smoking_status_1  Residence_type_0  Residence_type_1  \n",
       "0                 0                 1                 0                 1  \n",
       "1                 1                 0                 1                 0  \n",
       "2                 0                 1                 0                 1  "
      ],
      "text/html": [
       "<div>\n",
       "<style scoped>\n",
       "    .dataframe tbody tr th:only-of-type {\n",
       "        vertical-align: middle;\n",
       "    }\n",
       "\n",
       "    .dataframe tbody tr th {\n",
       "        vertical-align: top;\n",
       "    }\n",
       "\n",
       "    .dataframe thead th {\n",
       "        text-align: right;\n",
       "    }\n",
       "</style>\n",
       "<table border=\"1\" class=\"dataframe\">\n",
       "  <thead>\n",
       "    <tr style=\"text-align: right;\">\n",
       "      <th></th>\n",
       "      <th>age</th>\n",
       "      <th>hypertension</th>\n",
       "      <th>heart_disease</th>\n",
       "      <th>work_type</th>\n",
       "      <th>avg_glucose_level</th>\n",
       "      <th>bmi</th>\n",
       "      <th>stroke</th>\n",
       "      <th>total_count</th>\n",
       "      <th>sex_0.0</th>\n",
       "      <th>sex_1.0</th>\n",
       "      <th>ever_married_0</th>\n",
       "      <th>ever_married_1</th>\n",
       "      <th>smoking_status_0</th>\n",
       "      <th>smoking_status_1</th>\n",
       "      <th>Residence_type_0</th>\n",
       "      <th>Residence_type_1</th>\n",
       "    </tr>\n",
       "  </thead>\n",
       "  <tbody>\n",
       "    <tr>\n",
       "      <th>0</th>\n",
       "      <td>63.0</td>\n",
       "      <td>0</td>\n",
       "      <td>1</td>\n",
       "      <td>4</td>\n",
       "      <td>228.69</td>\n",
       "      <td>36.6</td>\n",
       "      <td>1</td>\n",
       "      <td>1</td>\n",
       "      <td>0</td>\n",
       "      <td>1</td>\n",
       "      <td>0</td>\n",
       "      <td>1</td>\n",
       "      <td>0</td>\n",
       "      <td>1</td>\n",
       "      <td>0</td>\n",
       "      <td>1</td>\n",
       "    </tr>\n",
       "    <tr>\n",
       "      <th>1</th>\n",
       "      <td>42.0</td>\n",
       "      <td>0</td>\n",
       "      <td>1</td>\n",
       "      <td>4</td>\n",
       "      <td>105.92</td>\n",
       "      <td>32.5</td>\n",
       "      <td>1</td>\n",
       "      <td>1</td>\n",
       "      <td>0</td>\n",
       "      <td>1</td>\n",
       "      <td>0</td>\n",
       "      <td>1</td>\n",
       "      <td>1</td>\n",
       "      <td>0</td>\n",
       "      <td>1</td>\n",
       "      <td>0</td>\n",
       "    </tr>\n",
       "    <tr>\n",
       "      <th>2</th>\n",
       "      <td>61.0</td>\n",
       "      <td>0</td>\n",
       "      <td>0</td>\n",
       "      <td>4</td>\n",
       "      <td>171.23</td>\n",
       "      <td>34.4</td>\n",
       "      <td>1</td>\n",
       "      <td>1</td>\n",
       "      <td>1</td>\n",
       "      <td>0</td>\n",
       "      <td>0</td>\n",
       "      <td>1</td>\n",
       "      <td>0</td>\n",
       "      <td>1</td>\n",
       "      <td>0</td>\n",
       "      <td>1</td>\n",
       "    </tr>\n",
       "  </tbody>\n",
       "</table>\n",
       "</div>"
      ]
     },
     "execution_count": 35,
     "metadata": {},
     "output_type": "execute_result"
    }
   ],
   "execution_count": 35
  },
  {
   "metadata": {
    "ExecuteTime": {
     "end_time": "2025-04-06T13:45:41.195513Z",
     "start_time": "2025-04-06T13:45:41.173232Z"
    }
   },
   "cell_type": "code",
   "source": "df.describe()",
   "id": "eb93ecd648cef5bc",
   "outputs": [
    {
     "data": {
      "text/plain": [
       "                age  hypertension  heart_disease     work_type  \\\n",
       "count  40910.000000  40910.000000   40910.000000  40910.000000   \n",
       "mean      51.327255      0.213835       0.127719      3.461134   \n",
       "std       21.623969      0.410017       0.333781      0.780919   \n",
       "min       -9.000000      0.000000       0.000000      0.000000   \n",
       "25%       35.000000      0.000000       0.000000      3.000000   \n",
       "50%       52.000000      0.000000       0.000000      4.000000   \n",
       "75%       68.000000      0.000000       0.000000      4.000000   \n",
       "max      103.000000      1.000000       1.000000      4.000000   \n",
       "\n",
       "       avg_glucose_level           bmi  total_count       sex_0.0  \\\n",
       "count       40910.000000  40910.000000      40910.0  40910.000000   \n",
       "mean          122.075901     30.406355          1.0      0.444879   \n",
       "std            57.561531      6.835072          0.0      0.496958   \n",
       "min            55.120000     11.500000          1.0      0.000000   \n",
       "25%            78.750000     25.900000          1.0      0.000000   \n",
       "50%            97.920000     29.400000          1.0      0.000000   \n",
       "75%           167.590000     34.100000          1.0      1.000000   \n",
       "max           271.740000     92.000000          1.0      1.000000   \n",
       "\n",
       "            sex_1.0  ever_married_0  ever_married_1  smoking_status_0  \\\n",
       "count  40910.000000    40910.000000    40910.000000      40910.000000   \n",
       "mean       0.555121        0.178660        0.821340          0.511391   \n",
       "std        0.496958        0.383072        0.383072          0.499876   \n",
       "min        0.000000        0.000000        0.000000          0.000000   \n",
       "25%        0.000000        0.000000        1.000000          0.000000   \n",
       "50%        1.000000        0.000000        1.000000          1.000000   \n",
       "75%        1.000000        0.000000        1.000000          1.000000   \n",
       "max        1.000000        1.000000        1.000000          1.000000   \n",
       "\n",
       "       smoking_status_1  Residence_type_0  Residence_type_1  \n",
       "count      40910.000000      40910.000000      40910.000000  \n",
       "mean           0.488609          0.485114          0.514886  \n",
       "std            0.499876          0.499784          0.499784  \n",
       "min            0.000000          0.000000          0.000000  \n",
       "25%            0.000000          0.000000          0.000000  \n",
       "50%            0.000000          0.000000          1.000000  \n",
       "75%            1.000000          1.000000          1.000000  \n",
       "max            1.000000          1.000000          1.000000  "
      ],
      "text/html": [
       "<div>\n",
       "<style scoped>\n",
       "    .dataframe tbody tr th:only-of-type {\n",
       "        vertical-align: middle;\n",
       "    }\n",
       "\n",
       "    .dataframe tbody tr th {\n",
       "        vertical-align: top;\n",
       "    }\n",
       "\n",
       "    .dataframe thead th {\n",
       "        text-align: right;\n",
       "    }\n",
       "</style>\n",
       "<table border=\"1\" class=\"dataframe\">\n",
       "  <thead>\n",
       "    <tr style=\"text-align: right;\">\n",
       "      <th></th>\n",
       "      <th>age</th>\n",
       "      <th>hypertension</th>\n",
       "      <th>heart_disease</th>\n",
       "      <th>work_type</th>\n",
       "      <th>avg_glucose_level</th>\n",
       "      <th>bmi</th>\n",
       "      <th>total_count</th>\n",
       "      <th>sex_0.0</th>\n",
       "      <th>sex_1.0</th>\n",
       "      <th>ever_married_0</th>\n",
       "      <th>ever_married_1</th>\n",
       "      <th>smoking_status_0</th>\n",
       "      <th>smoking_status_1</th>\n",
       "      <th>Residence_type_0</th>\n",
       "      <th>Residence_type_1</th>\n",
       "    </tr>\n",
       "  </thead>\n",
       "  <tbody>\n",
       "    <tr>\n",
       "      <th>count</th>\n",
       "      <td>40910.000000</td>\n",
       "      <td>40910.000000</td>\n",
       "      <td>40910.000000</td>\n",
       "      <td>40910.000000</td>\n",
       "      <td>40910.000000</td>\n",
       "      <td>40910.000000</td>\n",
       "      <td>40910.0</td>\n",
       "      <td>40910.000000</td>\n",
       "      <td>40910.000000</td>\n",
       "      <td>40910.000000</td>\n",
       "      <td>40910.000000</td>\n",
       "      <td>40910.000000</td>\n",
       "      <td>40910.000000</td>\n",
       "      <td>40910.000000</td>\n",
       "      <td>40910.000000</td>\n",
       "    </tr>\n",
       "    <tr>\n",
       "      <th>mean</th>\n",
       "      <td>51.327255</td>\n",
       "      <td>0.213835</td>\n",
       "      <td>0.127719</td>\n",
       "      <td>3.461134</td>\n",
       "      <td>122.075901</td>\n",
       "      <td>30.406355</td>\n",
       "      <td>1.0</td>\n",
       "      <td>0.444879</td>\n",
       "      <td>0.555121</td>\n",
       "      <td>0.178660</td>\n",
       "      <td>0.821340</td>\n",
       "      <td>0.511391</td>\n",
       "      <td>0.488609</td>\n",
       "      <td>0.485114</td>\n",
       "      <td>0.514886</td>\n",
       "    </tr>\n",
       "    <tr>\n",
       "      <th>std</th>\n",
       "      <td>21.623969</td>\n",
       "      <td>0.410017</td>\n",
       "      <td>0.333781</td>\n",
       "      <td>0.780919</td>\n",
       "      <td>57.561531</td>\n",
       "      <td>6.835072</td>\n",
       "      <td>0.0</td>\n",
       "      <td>0.496958</td>\n",
       "      <td>0.496958</td>\n",
       "      <td>0.383072</td>\n",
       "      <td>0.383072</td>\n",
       "      <td>0.499876</td>\n",
       "      <td>0.499876</td>\n",
       "      <td>0.499784</td>\n",
       "      <td>0.499784</td>\n",
       "    </tr>\n",
       "    <tr>\n",
       "      <th>min</th>\n",
       "      <td>-9.000000</td>\n",
       "      <td>0.000000</td>\n",
       "      <td>0.000000</td>\n",
       "      <td>0.000000</td>\n",
       "      <td>55.120000</td>\n",
       "      <td>11.500000</td>\n",
       "      <td>1.0</td>\n",
       "      <td>0.000000</td>\n",
       "      <td>0.000000</td>\n",
       "      <td>0.000000</td>\n",
       "      <td>0.000000</td>\n",
       "      <td>0.000000</td>\n",
       "      <td>0.000000</td>\n",
       "      <td>0.000000</td>\n",
       "      <td>0.000000</td>\n",
       "    </tr>\n",
       "    <tr>\n",
       "      <th>25%</th>\n",
       "      <td>35.000000</td>\n",
       "      <td>0.000000</td>\n",
       "      <td>0.000000</td>\n",
       "      <td>3.000000</td>\n",
       "      <td>78.750000</td>\n",
       "      <td>25.900000</td>\n",
       "      <td>1.0</td>\n",
       "      <td>0.000000</td>\n",
       "      <td>0.000000</td>\n",
       "      <td>0.000000</td>\n",
       "      <td>1.000000</td>\n",
       "      <td>0.000000</td>\n",
       "      <td>0.000000</td>\n",
       "      <td>0.000000</td>\n",
       "      <td>0.000000</td>\n",
       "    </tr>\n",
       "    <tr>\n",
       "      <th>50%</th>\n",
       "      <td>52.000000</td>\n",
       "      <td>0.000000</td>\n",
       "      <td>0.000000</td>\n",
       "      <td>4.000000</td>\n",
       "      <td>97.920000</td>\n",
       "      <td>29.400000</td>\n",
       "      <td>1.0</td>\n",
       "      <td>0.000000</td>\n",
       "      <td>1.000000</td>\n",
       "      <td>0.000000</td>\n",
       "      <td>1.000000</td>\n",
       "      <td>1.000000</td>\n",
       "      <td>0.000000</td>\n",
       "      <td>0.000000</td>\n",
       "      <td>1.000000</td>\n",
       "    </tr>\n",
       "    <tr>\n",
       "      <th>75%</th>\n",
       "      <td>68.000000</td>\n",
       "      <td>0.000000</td>\n",
       "      <td>0.000000</td>\n",
       "      <td>4.000000</td>\n",
       "      <td>167.590000</td>\n",
       "      <td>34.100000</td>\n",
       "      <td>1.0</td>\n",
       "      <td>1.000000</td>\n",
       "      <td>1.000000</td>\n",
       "      <td>0.000000</td>\n",
       "      <td>1.000000</td>\n",
       "      <td>1.000000</td>\n",
       "      <td>1.000000</td>\n",
       "      <td>1.000000</td>\n",
       "      <td>1.000000</td>\n",
       "    </tr>\n",
       "    <tr>\n",
       "      <th>max</th>\n",
       "      <td>103.000000</td>\n",
       "      <td>1.000000</td>\n",
       "      <td>1.000000</td>\n",
       "      <td>4.000000</td>\n",
       "      <td>271.740000</td>\n",
       "      <td>92.000000</td>\n",
       "      <td>1.0</td>\n",
       "      <td>1.000000</td>\n",
       "      <td>1.000000</td>\n",
       "      <td>1.000000</td>\n",
       "      <td>1.000000</td>\n",
       "      <td>1.000000</td>\n",
       "      <td>1.000000</td>\n",
       "      <td>1.000000</td>\n",
       "      <td>1.000000</td>\n",
       "    </tr>\n",
       "  </tbody>\n",
       "</table>\n",
       "</div>"
      ]
     },
     "execution_count": 36,
     "metadata": {},
     "output_type": "execute_result"
    }
   ],
   "execution_count": 36
  },
  {
   "metadata": {
    "ExecuteTime": {
     "end_time": "2025-04-06T13:45:41.431996Z",
     "start_time": "2025-04-06T13:45:41.222801Z"
    }
   },
   "cell_type": "code",
   "source": "sns.heatmap(df.corr(), cmap=\"coolwarm\", fmt=\".2f\", linewidths=0.5)",
   "id": "2006621c3c768837",
   "outputs": [
    {
     "data": {
      "text/plain": [
       "<Axes: >"
      ]
     },
     "execution_count": 37,
     "metadata": {},
     "output_type": "execute_result"
    },
    {
     "data": {
      "text/plain": [
       "<Figure size 640x480 with 2 Axes>"
      ],
      "image/png": "[encoded data removed]"
     },
     "metadata": {},
     "output_type": "display_data"
    }
   ],
   "execution_count": 37
  },
  {
   "metadata": {
    "ExecuteTime": {
     "end_time": "2025-04-06T13:45:41.511155Z",
     "start_time": "2025-04-06T13:45:41.507207Z"
    }
   },
   "cell_type": "code",
   "source": [
    "# Split and Apply SMOTE\n",
    "X = df.drop('stroke', axis=1)\n",
    "y = df['stroke']"
   ],
   "id": "31bd5739b5114683",
   "outputs": [],
   "execution_count": 38
  },
  {
   "metadata": {
    "ExecuteTime": {
     "end_time": "2025-04-06T13:45:41.610231Z",
     "start_time": "2025-04-06T13:45:41.584914Z"
    }
   },
   "cell_type": "code",
   "source": "X_train, X_test, y_train, y_test = train_test_split(X, y, test_size=0.2, random_state=42, stratify=y)",
   "id": "37699314bdc4e480",
   "outputs": [],
   "execution_count": 39
  },
  {
   "metadata": {},
   "cell_type": "markdown",
   "source": [
    "Model Training\n",
    "will Try the below models:\n",
    "\n",
    "1- Logistic Regression\n",
    "\n",
    "2- Random Forest\n",
    "\n",
    "3- XGBoost"
   ],
   "id": "ef09b3e78a6129f1"
  },
  {
   "metadata": {
    "ExecuteTime": {
     "end_time": "2025-04-06T13:45:41.891711Z",
     "start_time": "2025-04-06T13:45:41.670157Z"
    }
   },
   "cell_type": "code",
   "source": [
    "# Model Training\n",
    "# Logistic Regression\n",
    "lRegression = LogisticRegression(max_iter=1000)\n",
    "lRegression.fit(X_train, y_train)\n",
    "y_pred_lRegression = lRegression.predict(X_test)"
   ],
   "id": "c26833e7273446f1",
   "outputs": [],
   "execution_count": 40
  },
  {
   "metadata": {
    "ExecuteTime": {
     "end_time": "2025-04-06T13:45:42.050615Z",
     "start_time": "2025-04-06T13:45:41.941853Z"
    }
   },
   "cell_type": "code",
   "source": [
    "# Logistic Regression\n",
    "y_pred_lRegression = y_pred_lRegression.astype(str)\n",
    "print(\"Logistic Regression Results:\")\n",
    "print(classification_report(y_test, y_pred_lRegression))"
   ],
   "id": "f66221f539af7d10",
   "outputs": [
    {
     "name": "stdout",
     "output_type": "stream",
     "text": [
      "Logistic Regression Results:\n",
      "              precision    recall  f1-score   support\n",
      "\n",
      "           0       0.67      0.75      0.71      4090\n",
      "           1       0.71      0.63      0.67      4092\n",
      "\n",
      "    accuracy                           0.69      8182\n",
      "   macro avg       0.69      0.69      0.69      8182\n",
      "weighted avg       0.69      0.69      0.69      8182\n",
      "\n"
     ]
    }
   ],
   "execution_count": 41
  },
  {
   "metadata": {
    "ExecuteTime": {
     "end_time": "2025-04-06T13:45:42.147346Z",
     "start_time": "2025-04-06T13:45:42.127299Z"
    }
   },
   "cell_type": "code",
   "source": [
    "# confusion matrix\n",
    "cf = pd.DataFrame(columns=[\"0\", \"1\"], index=[\"0\", \"1\"])\n",
    "cf.loc[:, :] = confusion_matrix(y_true=y_test, y_pred=y_pred_lRegression)\n",
    "print(cf)\n",
    "print('')\n",
    "print(cf / len(y_test))"
   ],
   "id": "ba2c3180d4c2717d",
   "outputs": [
    {
     "name": "stdout",
     "output_type": "stream",
     "text": [
      "      0     1\n",
      "0  3053  1037\n",
      "1  1506  2586\n",
      "\n",
      "          0         1\n",
      "0  0.373136  0.126742\n",
      "1  0.184063   0.31606\n"
     ]
    }
   ],
   "execution_count": 42
  },
  {
   "metadata": {
    "ExecuteTime": {
     "end_time": "2025-04-06T13:45:42.251049Z",
     "start_time": "2025-04-06T13:45:42.161091Z"
    }
   },
   "cell_type": "code",
   "source": [
    "# confusion_matrix display\n",
    "ConfusionMatrixDisplay(confusion_matrix(y_test, y_pred_lRegression)).plot()\n",
    "plt.title(\"Confusion Matrix - Logistic Regression\")\n",
    "plt.show()"
   ],
   "id": "20c0958db0fe599b",
   "outputs": [
    {
     "data": {
      "text/plain": [
       "<Figure size 640x480 with 2 Axes>"
      ],
      "image/png": "[encoded data removed]"
     },
     "metadata": {},
     "output_type": "display_data"
    }
   ],
   "execution_count": 43
  },
  {
   "metadata": {
    "ExecuteTime": {
     "end_time": "2025-04-06T13:45:43.599534Z",
     "start_time": "2025-04-06T13:45:42.265166Z"
    }
   },
   "cell_type": "code",
   "source": [
    "# Random Forest\n",
    "rForest = RandomForestClassifier()\n",
    "rForest.fit(X_train, y_train)\n",
    "y_pred_rForest = rForest.predict(X_test)\n"
   ],
   "id": "27fb9e0042e15743",
   "outputs": [],
   "execution_count": 44
  },
  {
   "metadata": {
    "ExecuteTime": {
     "end_time": "2025-04-06T13:45:43.760013Z",
     "start_time": "2025-04-06T13:45:43.612339Z"
    }
   },
   "cell_type": "code",
   "source": [
    "# Random Forest\n",
    "#y_pred_rForest = y_pred_rForest.astype(int)\n",
    "print(\"Random Forest Results:\")\n",
    "print(classification_report(y_test, y_pred_rForest))\n",
    "#print(confusion_matrix(y_test, y_pred_rForest))"
   ],
   "id": "a5435c6d5d2e0b7b",
   "outputs": [
    {
     "name": "stdout",
     "output_type": "stream",
     "text": [
      "Random Forest Results:\n",
      "              precision    recall  f1-score   support\n",
      "\n",
      "           0       1.00      0.99      1.00      4090\n",
      "           1       0.99      1.00      1.00      4092\n",
      "\n",
      "    accuracy                           1.00      8182\n",
      "   macro avg       1.00      1.00      1.00      8182\n",
      "weighted avg       1.00      1.00      1.00      8182\n",
      "\n"
     ]
    }
   ],
   "execution_count": 45
  },
  {
   "metadata": {
    "ExecuteTime": {
     "end_time": "2025-04-06T13:45:43.795858Z",
     "start_time": "2025-04-06T13:45:43.773493Z"
    }
   },
   "cell_type": "code",
   "source": [
    "# confusion_matrix\n",
    "cf_forest = pd.DataFrame(columns=[\"0\", \"1\"], index=[\"0\", \"1\"])\n",
    "cf_forest.loc[:, :] = confusion_matrix(y_true=y_test, y_pred=y_pred_rForest)\n",
    "print(cf_forest)\n",
    "print('')\n",
    "print(cf_forest / len(y_test))"
   ],
   "id": "e13d7116e8f6d261",
   "outputs": [
    {
     "name": "stdout",
     "output_type": "stream",
     "text": [
      "      0     1\n",
      "0  4057    33\n",
      "1     0  4092\n",
      "\n",
      "          0         1\n",
      "0  0.495845  0.004033\n",
      "1       0.0  0.500122\n"
     ]
    }
   ],
   "execution_count": 46
  },
  {
   "metadata": {
    "ExecuteTime": {
     "end_time": "2025-04-06T13:45:43.950958Z",
     "start_time": "2025-04-06T13:45:43.808882Z"
    }
   },
   "cell_type": "code",
   "source": [
    "# confusion_matrix display\n",
    "ConfusionMatrixDisplay(confusion_matrix(y_test, y_pred_rForest)).plot()\n",
    "plt.title(\"Confusion Matrix - Random Forest\")\n",
    "plt.show()"
   ],
   "id": "58041c669dfc0bf0",
   "outputs": [
    {
     "data": {
      "text/plain": [
       "<Figure size 640x480 with 2 Axes>"
      ],
      "image/png": "[encoded data removed]"
     },
     "metadata": {},
     "output_type": "display_data"
    }
   ],
   "execution_count": 47
  },
  {
   "metadata": {
    "ExecuteTime": {
     "end_time": "2025-04-06T13:45:44.143174Z",
     "start_time": "2025-04-06T13:45:43.964419Z"
    }
   },
   "cell_type": "code",
   "source": [
    "# XGBoost\n",
    "# Convert y_train_bal, and y_test from strings to integers\n",
    "y_train = y_train.astype(int)\n",
    "y_test = y_test.astype(int)\n",
    "\n",
    "xgb = XGBClassifier(eval_metric='logloss')\n",
    "xgb.fit(X_train, y_train)\n",
    "y_pred_xgb = xgb.predict(X_test)"
   ],
   "id": "b2e4dd9e28883457",
   "outputs": [],
   "execution_count": 48
  },
  {
   "metadata": {
    "ExecuteTime": {
     "end_time": "2025-04-06T13:45:44.185393Z",
     "start_time": "2025-04-06T13:45:44.167393Z"
    }
   },
   "cell_type": "code",
   "source": [
    "# XGBoost\n",
    "y_pred_xgb = y_pred_xgb.astype(int)\n",
    "print(\"XGBoost Results:\")\n",
    "print(classification_report(y_test, y_pred_xgb))\n",
    "#print(confusion_matrix(y_test, y_pred_xgb))"
   ],
   "id": "984fa13c4a2ae1bc",
   "outputs": [
    {
     "name": "stdout",
     "output_type": "stream",
     "text": [
      "XGBoost Results:\n",
      "              precision    recall  f1-score   support\n",
      "\n",
      "           0       1.00      0.99      1.00      4090\n",
      "           1       0.99      1.00      1.00      4092\n",
      "\n",
      "    accuracy                           1.00      8182\n",
      "   macro avg       1.00      1.00      1.00      8182\n",
      "weighted avg       1.00      1.00      1.00      8182\n",
      "\n"
     ]
    }
   ],
   "execution_count": 49
  },
  {
   "metadata": {
    "ExecuteTime": {
     "end_time": "2025-04-06T13:45:44.216834Z",
     "start_time": "2025-04-06T13:45:44.208412Z"
    }
   },
   "cell_type": "code",
   "source": [
    "# confusion_matrix\n",
    "cf_xgb = pd.DataFrame(columns=[\"0\", \"1\"], index=[\"0\", \"1\"])\n",
    "cf_xgb.loc[:, :] = confusion_matrix(y_true=y_test, y_pred=y_pred_xgb)\n",
    "print(cf_xgb)\n",
    "print('')\n",
    "print(cf_xgb / len(y_test))"
   ],
   "id": "bddb9660ebb48d80",
   "outputs": [
    {
     "name": "stdout",
     "output_type": "stream",
     "text": [
      "      0     1\n",
      "0  4064    26\n",
      "1     0  4092\n",
      "\n",
      "        0         1\n",
      "0  0.4967  0.003178\n",
      "1     0.0  0.500122\n"
     ]
    }
   ],
   "execution_count": 50
  },
  {
   "metadata": {
    "ExecuteTime": {
     "end_time": "2025-04-06T13:45:44.315753Z",
     "start_time": "2025-04-06T13:45:44.240061Z"
    }
   },
   "cell_type": "code",
   "source": [
    "# confusion_matrix display\n",
    "ConfusionMatrixDisplay(confusion_matrix(y_test, y_pred_xgb)).plot()\n",
    "plt.title(\"Confusion Matrix - XGBoost\")\n",
    "plt.show()"
   ],
   "id": "9c7f244335727160",
   "outputs": [
    {
     "data": {
      "text/plain": [
       "<Figure size 640x480 with 2 Axes>"
      ],
      "image/png": "[encoded data removed]"
     },
     "metadata": {},
     "output_type": "display_data"
    }
   ],
   "execution_count": 51
  },
  {
   "metadata": {},
   "cell_type": "markdown",
   "source": "Model Evaluation all models",
   "id": "2528f42cd35355eb"
  },
  {
   "metadata": {
    "ExecuteTime": {
     "end_time": "2025-04-06T13:45:44.333658Z",
     "start_time": "2025-04-06T13:45:44.330673Z"
    }
   },
   "cell_type": "code",
   "source": [
    "# Manual Testing\n",
    "# Create a dictionary that matches exactly X_train columns\n",
    "# Fill everything with 0 first\n",
    "input_data = {col: 0 for col in X_train.columns}\n",
    "\n",
    "# update the fields\n",
    "input_data.update({\n",
    "    'age': 67.0,  # Age\n",
    "    'hypertension': 1,  # 1 if hypertension\n",
    "    'heart_disease': 0,  # 1 if heart disease\n",
    "    'avg_glucose_level': 228.69,  # Average glucose\n",
    "    'bmi': 36.6,  # BMI\n",
    "    'work_type': 2,  # Assume encoded work_type 2 (check your encoding!)\n",
    "    'sex_1.0': 1,  # 1 if Male\n",
    "    'ever_married_1': 1,  # 1 if Married\n",
    "    'smoking_status_1': 1,  # 1 if smoked\n",
    "    'Residence_type_1': 1  # 1 if Urban\n",
    "})"
   ],
   "id": "c3ff633cb9c07ef2",
   "outputs": [],
   "execution_count": 52
  },
  {
   "metadata": {
    "ExecuteTime": {
     "end_time": "2025-04-06T13:45:44.371075Z",
     "start_time": "2025-04-06T13:45:44.367354Z"
    }
   },
   "cell_type": "code",
   "source": [
    "# Convert to DataFrame\n",
    "input_df = pd.DataFrame([input_data])"
   ],
   "id": "9afb0481c75625e3",
   "outputs": [],
   "execution_count": 53
  },
  {
   "metadata": {
    "ExecuteTime": {
     "end_time": "2025-04-06T13:45:44.397477Z",
     "start_time": "2025-04-06T13:45:44.392307Z"
    }
   },
   "cell_type": "code",
   "source": [
    "# Predict\n",
    "predicted_class = xgb.predict(input_df)[0]\n",
    "print(\"Prediction:\", \"Stroke\" if predicted_class == 1 else \"No Stroke\")"
   ],
   "id": "8bae965c4d6dcb84",
   "outputs": [
    {
     "name": "stdout",
     "output_type": "stream",
     "text": [
      "Prediction: No Stroke\n"
     ]
    }
   ],
   "execution_count": 54
  }
 ],
 "metadata": {
  "kernelspec": {
   "display_name": "Python 3",
   "language": "python",
   "name": "python3"
  },
  "language_info": {
   "codemirror_mode": {
    "name": "ipython",
    "version": 2
   },
   "file_extension": ".py",
   "mimetype": "text/x-python",
   "name": "python",
   "nbconvert_exporter": "python",
   "pygments_lexer": "ipython2",
   "version": "2.7.6"
  }
 },
 "nbformat": 4,
 "nbformat_minor": 5
}
